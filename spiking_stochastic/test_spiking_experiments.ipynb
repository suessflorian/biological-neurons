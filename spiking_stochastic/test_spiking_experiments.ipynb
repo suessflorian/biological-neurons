{
 "cells": [
  {
   "cell_type": "code",
   "execution_count": 2,
   "metadata": {},
   "outputs": [],
   "source": [
    "import torch\n",
    "import torch.functional as F\n",
    "\n",
    "import torch\n",
    "import torch.nn.functional as F\n",
    "import torch.nn as nn\n",
    "import torchvision\n",
    "import torchvision.transforms as transforms\n",
    "from torch.utils.data import DataLoader\n",
    "\n",
    "import numpy as np\n",
    "\n",
    "import matplotlib.pyplot as plt\n",
    "\n",
    "device = torch.device('mps') if torch.backends.mps.is_available() else torch.device('cuda') if torch.cuda.is_available() else torch.device('cpu')"
   ]
  },
  {
   "cell_type": "code",
   "execution_count": null,
   "metadata": {},
   "outputs": [],
   "source": [
    "class spikingNeuron(nn.Module):\n",
    "    def __init__(self, in_features: int, out_features: int, device=None, dtype=None):\n",
    "        factory_kwargs = {'device': device, 'dtype': dtype}\n",
    "        super().__init__()\n",
    "        self.in_features = in_features\n",
    "        self.out_features = out_features\n",
    "        self.storage = torch.zeros(self.in_features)\n",
    "        self.weights = nn.Parameter(torch.empty(\n",
    "            self.in_features, self.out_features, **factory_kwargs))\n",
    "        self.bias = nn.Parameter(torch.empty(\n",
    "            self.out_features, **factory_kwargs))\n",
    "\n",
    "        nn.init.xavier_uniform_(self.weights)\n",
    "        nn.init.normal_(self.bias, mean=0.0, std=1.0)\n",
    "\n",
    "    def forward(self, x, t):\n",
    "\n",
    "        # input x is binary vector\n",
    "        x = x + self.storage\n",
    "        self.storage = x\n",
    "        x = torch.matmul(self.storage/t, self.weights) + self.bias\n",
    "        x = F.relu(x)\n",
    "        x = torch.clip(x, 0, 1)\n",
    "        x = torch.bernoulli(x)\n",
    "\n",
    "        return x"
   ]
  }
 ],
 "metadata": {
  "kernelspec": {
   "display_name": "torch",
   "language": "python",
   "name": "python3"
  },
  "language_info": {
   "codemirror_mode": {
    "name": "ipython",
    "version": 3
   },
   "file_extension": ".py",
   "mimetype": "text/x-python",
   "name": "python",
   "nbconvert_exporter": "python",
   "pygments_lexer": "ipython3",
   "version": "3.11.6"
  }
 },
 "nbformat": 4,
 "nbformat_minor": 2
}
