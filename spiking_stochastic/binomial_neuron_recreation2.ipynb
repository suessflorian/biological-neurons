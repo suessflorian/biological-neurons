{
 "cells": [
  {
   "cell_type": "markdown",
   "metadata": {},
   "source": [
    "# About\n",
    "\n",
    "The purpose of this notebook is (misleadingly) not to recreate the binomial neuron paper, but rather to explore the gradient approximation methods and see if we can get a small working model."
   ]
  },
  {
   "cell_type": "code",
   "execution_count": 141,
   "metadata": {},
   "outputs": [],
   "source": [
    "import torch\n",
    "import torch.nn as nn\n",
    "import torch.nn.functional as F\n",
    "import matplotlib.pyplot as plt\n",
    "import torchvision\n",
    "import torchvision.transforms as transforms\n",
    "\n",
    "import numpy as np\n",
    "\n",
    "import copy\n",
    "\n",
    "# device = torch.device('mps') if torch.backends.mps.is_available() else torch.device('cuda') if torch.cuda.is_available() else torch.device('cpu')\n",
    "device = torch.device('cpu')\n",
    "\n",
    "def printf(string, terminal = False):\n",
    "    # function for printing stuff that gets removed from the output each iteration\n",
    "    import sys\n",
    "    if terminal:\n",
    "        sys.stdout.write(\"\\r\")\n",
    "        sys.stdout.write(string)\n",
    "        sys.stdout.flush()\n",
    "    else:\n",
    "        from IPython.display import display, clear_output\n",
    "        clear_output(wait = True)\n",
    "        print(string, end = '')\n",
    "        sys.stdout.flush()"
   ]
  },
  {
   "cell_type": "code",
   "execution_count": 142,
   "metadata": {},
   "outputs": [],
   "source": [
    "transform = transforms.Compose([\n",
    "    transforms.ToTensor(),\n",
    "    transforms.Normalize(0, 1)\n",
    "])\n",
    "\n",
    "# Table 2 - says batch_size should be 32\n",
    "batch_size = 100\n",
    "\n",
    "train_dataset = torchvision.datasets.MNIST('../../Neural-Networks/data', train = True, transform = transform)\n",
    "test_dataset = torchvision.datasets.MNIST('../../Neural-Networks/data', train = False, transform = transform)\n",
    "train_loader = torch.utils.data.DataLoader(train_dataset, batch_size = batch_size, shuffle = True)\n",
    "test_loader = torch.utils.data.DataLoader(test_dataset, batch_size = batch_size, shuffle = False)\n",
    "\n",
    "features, labels = next(iter(train_loader))"
   ]
  },
  {
   "cell_type": "markdown",
   "metadata": {},
   "source": [
    "# Gradient Approximation Functions"
   ]
  },
  {
   "cell_type": "code",
   "execution_count": 143,
   "metadata": {},
   "outputs": [],
   "source": [
    "# Surrogate gradient implementation from https://github.com/fzenke/spytorch/blob/main/notebooks/SpyTorchTutorial1.ipynb\n",
    "class SurrogateGradientSpike(torch.autograd.Function):\n",
    "    '''takes in [-inf, inf] values'''\n",
    "    scale = 100.0\n",
    "    @staticmethod\n",
    "    def forward(ctx, input):\n",
    "        ctx.save_for_backward(input)\n",
    "        out = torch.zeros_like(input)\n",
    "        out[input > 0] = 1.0\n",
    "        return out\n",
    "    @staticmethod\n",
    "    def backward(ctx, grad_output):\n",
    "        input, = ctx.saved_tensors\n",
    "        grad_input = grad_output.clone()\n",
    "        grad = grad_input/(SurrogateGradientSpike.scale*torch.abs(input)+1.0)**2\n",
    "        return grad\n",
    "    \n",
    "# Sigmoid Bernoulli Spikes Generation\n",
    "# Implementation from https://github.com/NECOTIS/Parallelizable-Leaky-Integrate-and-Fire-Neuron/blob/main/neurons/paralif.py\n",
    "class StochasticStraightThrough(torch.autograd.Function):\n",
    "    '''takes in [0, 1] values'''\n",
    "    @staticmethod\n",
    "    def forward(ctx, input):\n",
    "        ctx.save_for_backward(input)\n",
    "        out = torch.bernoulli(input)\n",
    "        return out\n",
    "    @staticmethod\n",
    "    def backward(ctx, grad_output):\n",
    "        input, = ctx.saved_tensors\n",
    "        grad_input = grad_output.clone()\n",
    "        return grad_input*input\n",
    "\n",
    "# Implementation from https://github.com/NECOTIS/Parallelizable-Leaky-Integrate-and-Fire-Neuron/blob/main/neurons/paralif.py\n",
    "class GumbelSoftmax(torch.nn.Module):\n",
    "    def __init__(self, device, hard=True, tau=1.0):\n",
    "        super().__init__()\n",
    "        self.hard = hard\n",
    "        self.tau = tau\n",
    "        self.uniform = torch.distributions.Uniform(0, 1)\n",
    "        self.softmax = torch.nn.Softmax(dim=0)\n",
    "  \n",
    "    def forward(self, logits):\n",
    "        # Sample uniform noise\n",
    "        unif = self.uniform.sample(logits.shape + (2,)).to(device)\n",
    "        # Compute Gumbel noise from the uniform noise\n",
    "        gumbels = -torch.log(-torch.log(unif))\n",
    "        # Apply softmax function to the logits and Gumbel noise\n",
    "        y_soft = self.softmax(torch.stack([(logits + gumbels[...,0]) / self.tau,\n",
    "                                                     (-logits + gumbels[...,1]) / self.tau]))[0]\n",
    "        if self.hard:\n",
    "            # Use straight-through estimator\n",
    "            y_hard = torch.where(y_soft > 0.5, 1.0, 0.0)\n",
    "            ret = y_hard - y_soft.detach() + y_soft\n",
    "        else:\n",
    "            # Use reparameterization trick\n",
    "            ret = y_soft\n",
    "        return ret"
   ]
  },
  {
   "cell_type": "code",
   "execution_count": 144,
   "metadata": {},
   "outputs": [],
   "source": [
    "# gs = GumbelSoftmax(device=device)\n",
    "# x = torch.randn(3,5, device=device)\n",
    "# gs(x)"
   ]
  },
  {
   "cell_type": "markdown",
   "metadata": {},
   "source": [
    "# Gradient Approximations Experiments"
   ]
  },
  {
   "cell_type": "code",
   "execution_count": 145,
   "metadata": {},
   "outputs": [
    {
     "data": {
      "text/plain": [
       "tensor([[ 1.6177, -0.4981,  0.8480,  1.3343,  0.5577],\n",
       "        [-1.2175,  0.8002,  0.5963,  0.0951,  0.7872],\n",
       "        [ 1.0322, -0.0632, -0.1926,  0.7737,  1.2523]], requires_grad=True)"
      ]
     },
     "execution_count": 145,
     "metadata": {},
     "output_type": "execute_result"
    }
   ],
   "source": [
    "x1 = torch.randn(3, 5)\n",
    "x2 = x1.clone()\n",
    "x3 = x1.clone()\n",
    "\n",
    "x1.requires_grad_(True)\n",
    "x2.requires_grad_(True)\n",
    "x3.requires_grad_(True)\n",
    "x1"
   ]
  },
  {
   "cell_type": "code",
   "execution_count": 146,
   "metadata": {},
   "outputs": [],
   "source": [
    "gs = GumbelSoftmax(device=device)\n",
    "output1 = gs(x1)\n",
    "output2 = SurrogateGradientSpike.apply(x2)\n",
    "output3 = StochasticStraightThrough.apply(F.sigmoid(x3))\n",
    "\n",
    "loss1 = output1.sum()\n",
    "loss2 = output2.sum()\n",
    "loss3 = output3.sum()\n",
    "loss1.backward()\n",
    "loss2.backward()\n",
    "loss3.backward()"
   ]
  },
  {
   "cell_type": "code",
   "execution_count": 147,
   "metadata": {},
   "outputs": [
    {
     "name": "stdout",
     "output_type": "stream",
     "text": [
      "tensor([[0.1120, 0.0138, 0.3196, 0.0040, 0.4098],\n",
      "        [0.0917, 0.0690, 0.3124, 0.4953, 0.3229],\n",
      "        [0.1640, 0.3215, 0.3345, 0.4793, 0.4786]])\n",
      "tensor([[3.7744e-05, 3.8740e-04, 1.3583e-04, 5.5337e-05, 3.1026e-04],\n",
      "        [6.6370e-05, 1.5233e-04, 2.7200e-04, 9.0500e-03, 1.5737e-04],\n",
      "        [9.2073e-05, 1.8685e-02, 2.4372e-03, 1.6283e-04, 6.2755e-05]])\n",
      "tensor([[0.1153, 0.0889, 0.1470, 0.1306, 0.1472],\n",
      "        [0.0402, 0.1476, 0.1477, 0.1306, 0.1477],\n",
      "        [0.1428, 0.1209, 0.1120, 0.1478, 0.1344]])\n"
     ]
    }
   ],
   "source": [
    "print(x1.grad)\n",
    "print(x2.grad)\n",
    "print(x3.grad)"
   ]
  },
  {
   "cell_type": "markdown",
   "metadata": {},
   "source": [
    "We do the exact same thing again, but with a substantially larger matrix."
   ]
  },
  {
   "cell_type": "code",
   "execution_count": 148,
   "metadata": {},
   "outputs": [
    {
     "data": {
      "image/png": "[encoded data removed]",
      "text/plain": [
       "<Figure size 640x480 with 3 Axes>"
      ]
     },
     "metadata": {},
     "output_type": "display_data"
    }
   ],
   "source": [
    "x1 = torch.randn(20, 30)\n",
    "x2 = x1.clone()\n",
    "x3 = x1.clone()\n",
    "\n",
    "x1.requires_grad_(True)\n",
    "x2.requires_grad_(True)\n",
    "x3.requires_grad_(True)\n",
    "\n",
    "gs = GumbelSoftmax(device=device)\n",
    "output1 = gs(x1)\n",
    "output2 = SurrogateGradientSpike.apply(x2)\n",
    "output3 = StochasticStraightThrough.apply(F.sigmoid(x3))\n",
    "\n",
    "loss1 = output1.sum()\n",
    "loss2 = output2.sum()\n",
    "loss3 = output3.sum()\n",
    "loss1.backward()\n",
    "loss2.backward()\n",
    "loss3.backward()\n",
    "\n",
    "fig, axs = plt.subplots(3, 1)\n",
    "\n",
    "# plt.hist(x1.grad.detach().view(-1))\n",
    "axs[0].hist(x1.grad.detach().view(-1), color = 'red')\n",
    "axs[1].hist(x2.grad.detach().view(-1), color = 'blue')\n",
    "axs[2].hist(x3.grad.detach().view(-1), color = 'green')\n",
    "\n",
    "fig.suptitle('Distribution of gradients for each method')\n",
    "plt.show()"
   ]
  },
  {
   "cell_type": "markdown",
   "metadata": {},
   "source": [
    "# Neurons"
   ]
  },
  {
   "cell_type": "code",
   "execution_count": 149,
   "metadata": {},
   "outputs": [],
   "source": [
    "class BinomialUnit(nn.Module):\n",
    "    def __init__(self, in_features: int, out_features: int, spiker=\"gumbel\", is_final_layer=False):\n",
    "        super().__init__()\n",
    "        self.tanh = nn.Tanh()\n",
    "        self.relu = nn.ReLU()\n",
    "        self.bernoulli_generator = torch.bernoulli\n",
    "        self.storage = torch.zeros(in_features, device=device)\n",
    "        self.W = nn.Parameter(torch.empty((in_features, out_features))) # synaptic weights\n",
    "        self.b = nn.Parameter(torch.empty(out_features))\n",
    "        self.h = nn.Tanh()\n",
    "        \n",
    "        # gumbel and surrogate take in [-inf, inf]\n",
    "        # ste takes in [0, 1]\n",
    "        if spiker == \"gumbel\":\n",
    "            self.generate = GumbelSoftmax(device=device)\n",
    "        elif spiker == \"ste\":\n",
    "            self.generate = StochasticStraightThrough.apply\n",
    "        elif spiker == 'surrogate':\n",
    "            self.generate = SurrogateGradientSpike.apply\n",
    "        else:\n",
    "            raise ValueError(\"spiker must be in ['gumbel', 'ste', 'surrogate']\")\n",
    "        \n",
    "        self.generate_out = copy.deepcopy(self.generate)\n",
    "        \n",
    "        # he_normal for sigmoid or xavier for tahn\n",
    "        if spiker == 'ste':\n",
    "            nn.init.kaiming_normal_(self.W)\n",
    "        else:\n",
    "            nn.init.xavier_normal_(self.W)\n",
    "        nn.init.constant_(self.b, 0.0)\n",
    "        \n",
    "        self.in_features = in_features\n",
    "        self.out_features = out_features\n",
    "        self.spiker = spiker\n",
    "        self.is_final_layer = is_final_layer\n",
    "        self.output_storage = torch.zeros((batch_size, out_features), device=device) if is_final_layer else None\n",
    "    \n",
    "    def forward(self, x, t, T=None):\n",
    "        \n",
    "        if self.spiker == 'ste':\n",
    "            x = F.sigmoid(x)\n",
    "        else:\n",
    "            x = F.tanh(x)\n",
    "        \n",
    "        # makes x binary\n",
    "        x = self.generate(x)\n",
    "        \n",
    "        # Accumulation\n",
    "        x = x + self.storage\n",
    "        self.storage = x.detach()\n",
    "\n",
    "        # Unbiased estimator of the expectation\n",
    "        x = x / (t + 1)  # Equation 3 on page 4\n",
    "        \n",
    "        # Membrane potential\n",
    "        x = x @ self.W + self.b # Equation 4 on page 4\n",
    "        \n",
    "        # x here is NOT binary\n",
    "        \n",
    "        if self.spiker == 'ste':\n",
    "            x = F.sigmoid(x)\n",
    "        else:\n",
    "            x = F.tanh(x)\n",
    "        \n",
    "        x = self.generate_out(x)\n",
    "        if self.is_final_layer: #accumulate the outputs\n",
    "            self.output_storage.add_(x)\n",
    "            if t + 1 == T: # return the expectation at the end\n",
    "                x = self.output_storage / T\n",
    "                return x\n",
    "        return x.detach()\n",
    "\n",
    "    def reset_storage(self):\n",
    "        self.storage = torch.zeros(self.in_features, device=device)\n",
    "        if self.is_final_layer:\n",
    "            self.output_storage = torch.zeros((batch_size, self.out_features), device=device)"
   ]
  },
  {
   "cell_type": "code",
   "execution_count": 150,
   "metadata": {},
   "outputs": [],
   "source": [
    "# class EConv2d(nn.Module):\n",
    "#     def __init__(\n",
    "#         self, \n",
    "#         in_channels: int, \n",
    "#         out_channels: int, \n",
    "#         kernel_size: int,\n",
    "#         stride: int = 1,\n",
    "#         padding: int = 0\n",
    "#     ):\n",
    "        \n",
    "#         super().__init__()\n",
    "#         self.conv = nn.Conv2d(in_channels, out_channels, kernel_size, stride, padding)\n",
    "#         self.storage = None\n",
    "#         self.sigmoid = nn.Sigmoid()\n",
    "        \n",
    "#         # Table 2 - Initialise the kernel with he_normal\n",
    "#         nn.init.kaiming_normal_(self.conv.weight, mode='fan_in', nonlinearity='relu')\n",
    "#         nn.init.constant_(self.conv.bias, 0)\n",
    "    \n",
    "#     def forward(self, x, t = None):\n",
    "#         x = self.conv(x)\n",
    "        \n",
    "#         # For conv_initial we only want a convolution, no spiking.\n",
    "#         if t is None:\n",
    "#             return x\n",
    "        \n",
    "#         if self.storage is None:\n",
    "#             self.storage = torch.zeros_like(x, device=device)\n",
    "        \n",
    "#         # Squashes to [0, 1]\n",
    "#         x = self.sigmoid(x)\n",
    "#         x = torch.bernoulli(x).detach() - x.detach() + x # STE\n",
    "        \n",
    "#         # Accumulation\n",
    "#         x = x + self.storage\n",
    "#         self.storage = x.detach()\n",
    "        \n",
    "#         # Expectation\n",
    "#         x = x / (t + 1)\n",
    "        \n",
    "#         return x\n",
    "    \n",
    "#     def reset_storage(self):\n",
    "#         self.storage = None"
   ]
  },
  {
   "cell_type": "code",
   "execution_count": 151,
   "metadata": {},
   "outputs": [],
   "source": [
    "class Network(nn.Module):\n",
    "    def __init__(self, in_features: int, out_features: int, spiker = \"gumbel\"):\n",
    "        super().__init__()\n",
    "        self.BU1 = BinomialUnit(in_features, 256, spiker = spiker)\n",
    "        self.BU2 = BinomialUnit(256, 128, spiker = spiker)\n",
    "        self.BU3 = BinomialUnit(128, out_features, spiker = spiker, is_final_layer=True)\n",
    "        self.spiker = spiker\n",
    "        \n",
    "        # gumbel and surrogate take in [-inf, inf]\n",
    "        # ste takes in [0, 1]\n",
    "        if spiker == \"gumbel\":\n",
    "            self.generate = GumbelSoftmax(device=device)\n",
    "        elif spiker == \"ste\":\n",
    "            self.generate = StochasticStraightThrough.apply\n",
    "        elif spiker == 'surrogate':\n",
    "            self.generate = SurrogateGradientSpike.apply\n",
    "        else:\n",
    "            raise ValueError(\"spiker must be in ['gumbel', 'ste', 'surrogate']\")\n",
    "    \n",
    "    def forward(self, x_init, T):\n",
    "        if self.spiker == 'ste':\n",
    "            x_init = F.sigmoid(x_init)\n",
    "        else:\n",
    "            x_init = F.tanh(x_init)\n",
    "        x_init = self.generate(x_init)\n",
    "        \n",
    "        # Accumulation\n",
    "        for t in range(T):\n",
    "            x = self.BU1(x_init, t)\n",
    "            x = self.BU2(x, t)\n",
    "            x = self.BU3(x, t, T)\n",
    "\n",
    "        return x.softmax(dim = -1)\n",
    "    \n",
    "    def reset_storage(self):\n",
    "        for m in self.modules():\n",
    "            if isinstance(m, BinomialUnit):\n",
    "                m.reset_storage()\n",
    "    \n",
    "model = Network(28*28, 10).to(device)\n",
    "# See table 2 on page 9\n",
    "optimizer = torch.optim.SGD(model.parameters(), lr=0.1, momentum=0.9, nesterov=True)\n",
    "# optimizer = torch.optim.Adamax(model.parameters(), lr = 0.1)\n",
    "criterion = nn.CrossEntropyLoss()"
   ]
  },
  {
   "cell_type": "code",
   "execution_count": 152,
   "metadata": {},
   "outputs": [
    {
     "name": "stdout",
     "output_type": "stream",
     "text": [
      "Epoch [250/250], Step [600/600], Loss: 2.3055"
     ]
    }
   ],
   "source": [
    "n_epochs = 250\n",
    "T = 3\n",
    "losses = []\n",
    "\n",
    "for epoch in range(n_epochs):\n",
    "    epoch_loss = 0.0\n",
    "    n = 0\n",
    "    for i, (features, labels) in enumerate(train_loader):\n",
    "        features, labels = features.to(device), labels.to(device)\n",
    "        \n",
    "        outputs = model(features.view(batch_size, -1), T)\n",
    "        loss = criterion(outputs, labels) # Algorithm on page 7 line 17\n",
    "\n",
    "        optimizer.zero_grad()\n",
    "        loss.backward()\n",
    "        optimizer.step()\n",
    "        \n",
    "        model.reset_storage()\n",
    "        \n",
    "        epoch_loss += loss.item()\n",
    "        n += len(labels)\n",
    "        if (i+1) % 100 == 0:\n",
    "            printf(f'Epoch [{epoch+1}/{n_epochs}], Step [{i+1}/{len(train_loader)}], Loss: {loss.item():.4f}')\n",
    "    losses += [epoch_loss / n]"
   ]
  },
  {
   "cell_type": "code",
   "execution_count": 153,
   "metadata": {},
   "outputs": [
    {
     "data": {
      "image/png": "[encoded data removed]",
      "text/plain": [
       "<Figure size 640x480 with 1 Axes>"
      ]
     },
     "metadata": {},
     "output_type": "display_data"
    }
   ],
   "source": [
    "plt.plot(torch.arange(n_epochs), losses);"
   ]
  },
  {
   "cell_type": "code",
   "execution_count": 155,
   "metadata": {},
   "outputs": [
    {
     "data": {
      "text/plain": [
       "<All keys matched successfully>"
      ]
     },
     "execution_count": 155,
     "metadata": {},
     "output_type": "execute_result"
    }
   ],
   "source": [
    "torch.save(model.state_dict(), 'models/binomial_neuron_recreation2.pt')\n",
    "\n",
    "# Loading the RNN\n",
    "model = Network(784, 10).to(device)\n",
    "model.load_state_dict(torch.load('models/binomial_neuron_recreation2.pt')) # batch size 32"
   ]
  },
  {
   "cell_type": "markdown",
   "metadata": {},
   "source": [
    "# Inference\n",
    "\n",
    "The Binomial neurons storage attribute needs to be adjusted to work with batches of a different size than the batch size before inference can be done."
   ]
  },
  {
   "cell_type": "code",
   "execution_count": 106,
   "metadata": {},
   "outputs": [],
   "source": [
    "# T = 3\n",
    "# criterion = nn.CrossEntropyLoss()\n",
    "\n",
    "# with torch.no_grad():\n",
    "#     model.eval()\n",
    "#     n_correct = 0\n",
    "#     n_total = 0\n",
    "#     for features, labels in test_loader:\n",
    "#         features, labels = features.to(device), labels.to(device)\n",
    "        \n",
    "#         outputs = model(features, T)\n",
    "#         predictions = outputs.argmax(dim = -1)\n",
    "#         n_correct += (predictions == labels).sum().item()\n",
    "#         n_total += len(labels)\n",
    "#     print(n_correct, n_total)"
   ]
  }
 ],
 "metadata": {
  "kernelspec": {
   "display_name": "torch",
   "language": "python",
   "name": "python3"
  },
  "language_info": {
   "codemirror_mode": {
    "name": "ipython",
    "version": 3
   },
   "file_extension": ".py",
   "mimetype": "text/x-python",
   "name": "python",
   "nbconvert_exporter": "python",
   "pygments_lexer": "ipython3",
   "version": "3.11.6"
  }
 },
 "nbformat": 4,
 "nbformat_minor": 2
}
