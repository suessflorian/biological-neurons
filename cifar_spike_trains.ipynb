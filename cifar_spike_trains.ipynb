{
 "cells": [
  {
   "cell_type": "code",
   "execution_count": 10,
   "metadata": {},
   "outputs": [
    {
     "name": "stdout",
     "output_type": "stream",
     "text": [
      "Files already downloaded and verified\n"
     ]
    }
   ],
   "source": [
    "import torch\n",
    "import torchvision\n",
    "import torchvision.transforms as transforms\n",
    "\n",
    "from snntorch import spikegen\n",
    "import snntorch.spikeplot as splt\n",
    "\n",
    "from IPython.display import HTML\n",
    "import matplotlib.pyplot as plt\n",
    "\n",
    "import SPSN.dataset as dataset\n",
    "\n",
    "batch_size = 256\n",
    "\n",
    "# Load and normalize CIFAR-10 data\n",
    "transform = transforms.Compose([transforms.ToTensor(), transforms.Normalize((0, 0, 0), (1, 1, 1))])\n",
    "train_dataset = torchvision.datasets.CIFAR10(root='./data', train=True, download=True, transform=transform)\n",
    "train_loader = torch.utils.data.DataLoader(train_dataset, batch_size=batch_size, shuffle=True)\n",
    "\n",
    "# transform = transforms.Compose([transforms.ToTensor(), transforms.Normalize(0, 1)])\n",
    "\n",
    "# train_dataset_mnist = torchvision.datasets.MNIST(root='./data', train=True, download=True, transform=transform)\n",
    "# train_loader_mnist = torch.utils.data.DataLoader(train_dataset_mnist, batch_size=batch_size, shuffle=True)\n",
    "\n",
    "images, targets = next(iter(train_loader))"
   ]
  },
  {
   "cell_type": "code",
   "execution_count": 11,
   "metadata": {},
   "outputs": [],
   "source": [
    "def to_rate_encoded_spikes(images, num_steps, max_rate=1.0):\n",
    "    # Normalize pixel intensities to be in the range of [0, max_rate]\n",
    "    normalized_images = images * max_rate\n",
    "    # Generate spike trains: shape [batch_size, num_steps, W * H]\n",
    "    spike_trains = spikegen.rate(normalized_images, num_steps=num_steps)\n",
    "    # Reshaping to [batch_size, num_steps, W * H]\n",
    "    return spike_trains.view(batch_size, num_steps, -1)"
   ]
  },
  {
   "cell_type": "code",
   "execution_count": 34,
   "metadata": {},
   "outputs": [
    {
     "name": "stdout",
     "output_type": "stream",
     "text": [
      "torch.Size([256, 312, 3072])\n"
     ]
    }
   ],
   "source": [
    "spike_train = to_rate_encoded_spikes(images, num_steps=312)\n",
    "print(spike_train.shape) # [batch_size, num_steps, channels * W * H]"
   ]
  },
  {
   "cell_type": "code",
   "execution_count": 33,
   "metadata": {},
   "outputs": [
    {
     "data": {
      "text/plain": [
       "<matplotlib.image.AxesImage at 0x311a7a2d0>"
      ]
     },
     "execution_count": 33,
     "metadata": {},
     "output_type": "execute_result"
    },
    {
     "data": {
      "image/png": "[encoded data removed]",
      "text/plain": [
       "<Figure size 640x480 with 1 Axes>"
      ]
     },
     "metadata": {},
     "output_type": "display_data"
    }
   ],
   "source": [
    "plt.imshow(images[0].permute(1,2,0))"
   ]
  }
 ],
 "metadata": {
  "kernelspec": {
   "display_name": "torch",
   "language": "python",
   "name": "python3"
  },
  "language_info": {
   "codemirror_mode": {
    "name": "ipython",
    "version": 3
   },
   "file_extension": ".py",
   "mimetype": "text/x-python",
   "name": "python",
   "nbconvert_exporter": "python",
   "pygments_lexer": "ipython3",
   "version": "3.12.2"
  }
 },
 "nbformat": 4,
 "nbformat_minor": 2
}
