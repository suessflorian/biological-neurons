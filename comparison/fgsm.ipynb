{
 "cells": [
  {
   "cell_type": "markdown",
   "id": "e00684cf-8523-4896-b488-99aa3e1ab24f",
   "metadata": {},
   "source": [
    "# Robustness Comparison of LIF and ParaLif\n",
    "We fix the architecture, changing within it the neurons from *LIF* to *ParaLIF*. The architecture employed here is described in the baseline.\n",
    "\n",
    "## Datasets\n",
    "\n",
    "- MNIST\n",
    "- CIFAR-10"
   ]
  },
  {
   "cell_type": "code",
   "execution_count": 1,
   "id": "bd06f1cf-5fe0-4e32-a39e-77e8473be3ac",
   "metadata": {},
   "outputs": [
    {
     "data": {
      "text/plain": [
       "device(type='mps')"
      ]
     },
     "execution_count": 1,
     "metadata": {},
     "output_type": "execute_result"
    }
   ],
   "source": [
    "import torch\n",
    "\n",
    "def get_device():\n",
    "    if torch.cuda.is_available():\n",
    "        return torch.device(\"cuda\")\n",
    "    elif torch.backends.mps.is_available():\n",
    "        return torch.device(\"mps\")\n",
    "    else:\n",
    "        return torch.device(\"cpu\")\n",
    "\n",
    "get_device()"
   ]
  },
  {
   "cell_type": "markdown",
   "id": "247b8097-c114-4c16-9e83-04a45707d9e0",
   "metadata": {},
   "source": [
    "# LIF Implementation\n",
    "We call on the `trains` module to handle the spike train generation, this `train` module is designed to be differentiable allowing for gradient based adv. attacks."
   ]
  },
  {
   "cell_type": "code",
   "execution_count": 2,
   "id": "ebeebf67-c773-4b0c-824e-bd8317f2cd08",
   "metadata": {},
   "outputs": [
    {
     "name": "stdout",
     "output_type": "stream",
     "text": [
      "/Users/floriansuess/Documents/biological-neurons/comparison\n"
     ]
    }
   ],
   "source": [
    "import sys\n",
    "import os\n",
    "\n",
    "print(os.getcwd()) # WARNING: must be in **/biological-neurons/comparison for path append to work\n",
    "sys.path.append(\"../trains\")\n",
    "\n",
    "from spikegen import rate"
   ]
  },
  {
   "cell_type": "code",
   "execution_count": 3,
   "id": "f36d332d-25b3-4cd4-a9bd-61f8e9622fe1",
   "metadata": {},
   "outputs": [],
   "source": [
    "import torch.nn as nn\n",
    "import snntorch as snn\n",
    "import hashlib\n",
    "import json\n",
    "\n",
    "\n",
    "def baseline(c, w, h, device='cpu'):\n",
    "    hyper = {\n",
    "        \"decay_rate\": 0.9,\n",
    "        \"observation_window\": 4,\n",
    "    }\n",
    "\n",
    "    class SimpleSNN(nn.Module):\n",
    "        torch.manual_seed(0) #  deterministic weight initials for perceptrons \n",
    "        def __init__(self, c, w, h):\n",
    "            super(SimpleSNN, self).__init__()\n",
    "            self.input_features = h * w * c\n",
    "            \n",
    "            self.fc1 = nn.Linear(self.input_features, 2**9)\n",
    "            self.lif1 = snn.Leaky(\n",
    "                beta=hyper[\"decay_rate\"],\n",
    "                spike_grad=snn.surrogate.atan()\n",
    "            )\n",
    "            self.fc2 = nn.Linear(2**9, 2**8)\n",
    "            self.lif2 = snn.Leaky(\n",
    "                beta=hyper[\"decay_rate\"],\n",
    "                spike_grad=snn.surrogate.atan()\n",
    "            )\n",
    "            self.fc3 = nn.Linear(2**8, 2**7)\n",
    "            self.lif3 = snn.Leaky(\n",
    "                beta=hyper[\"decay_rate\"],\n",
    "                spike_grad=snn.surrogate.atan()\n",
    "            )\n",
    "\n",
    "            self.fc4 = nn.Linear(2**7, 10)\n",
    "            \n",
    "            self.window = hyper[\"observation_window\"]\n",
    "\n",
    "        def forward(self, images):  # images (batch, colour_channel, height, width)\n",
    "            mem1 = self.lif1.init_leaky()\n",
    "            mem2 = self.lif2.init_leaky()\n",
    "            mem3 = self.lif3.init_leaky()\n",
    "            \n",
    "            flattened = images.view(images.size(0), -1)  # (batch, colour_channel*width*height)\n",
    "            spike_train = rate(flattened, num_steps=self.window)\n",
    "            output_spikes = []\n",
    "            for step in range(self.window):\n",
    "                x = self.fc1(spike_train[step])\n",
    "                x, mem1 = self.lif1(x, mem1)\n",
    "                \n",
    "                x = self.fc2(x)\n",
    "                x, mem2 = self.lif2(x, mem2)\n",
    "                \n",
    "                x = self.fc3(x)\n",
    "                x, mem3 = self.lif3(x, mem3)\n",
    "\n",
    "                x = self.fc4(x)\n",
    "                output_spikes.append(x)\n",
    "            return torch.stack(output_spikes, dim=0)\n",
    "\n",
    "        def hash(self):\n",
    "            id = json.dumps({\n",
    "                \"hyperparameters\": hyper,\n",
    "                \"input_features\": c*w*h,\n",
    "            })\n",
    "            return hashlib.md5(id.encode()).hexdigest()\n",
    "\n",
    "    model = SimpleSNN(c, w, h)\n",
    "    model.to(device)\n",
    "    return model"
   ]
  },
  {
   "cell_type": "markdown",
   "id": "4e84a06b-e754-4ccc-b8e4-f65b5bc8fc32",
   "metadata": {},
   "source": [
    "# Running Evaluate and Train Methodology"
   ]
  },
  {
   "cell_type": "code",
   "execution_count": 4,
   "id": "09e0a4e7-42b9-462c-804b-22f74976265e",
   "metadata": {},
   "outputs": [],
   "source": [
    "def evaluate(model, loader, device='cpu'):\n",
    "    model.eval()\n",
    "    correct = 0\n",
    "    total = 0\n",
    "\n",
    "    for images, labels in loader:\n",
    "        output_spikes = model(images)\n",
    "        outputs = output_spikes.sum(dim=0)\n",
    "        _, predicted = torch.max(outputs, 1)\n",
    "        total += labels.size(0)\n",
    "        correct += (predicted == labels).sum().item()\n",
    "\n",
    "    accuracy = (correct / total) * 100\n",
    "    return accuracy\n",
    "\n",
    "def train(model, dataset, loader, epochs=10, device='cpu'):    \n",
    "    torch.manual_seed(0) #  deterministic training\n",
    "    logs = \"\"\n",
    "    \n",
    "    criterion = nn.CrossEntropyLoss()\n",
    "    optimizer = torch.optim.SGD(model.parameters(), lr=0.01)\n",
    "\n",
    "    pre = evaluate(model, loader)\n",
    "    logs += f'Accuracy before training: {pre:.2f}%\\n'\n",
    "    print(logs.strip())\n",
    "    \n",
    "    loss_history = []\n",
    "    accuracy_history = []\n",
    "    \n",
    "    for epoch in range(epochs):\n",
    "        model.train()\n",
    "        running_loss = 0.\n",
    "        correct_predictions = 0\n",
    "        total_predictions = 0\n",
    "    \n",
    "        for images, labels in loader:\n",
    "            output_spikes = model(images)\n",
    "            outputs = output_spikes.sum(dim=0)\n",
    "            loss = criterion(outputs, labels)  # forward pass\n",
    "    \n",
    "            optimizer.zero_grad()\n",
    "            loss.backward()\n",
    "            optimizer.step()\n",
    "    \n",
    "            running_loss += loss.item()\n",
    "            _, predicted = torch.max(outputs, 1)\n",
    "            total_predictions += labels.size(0)\n",
    "            correct_predictions += (predicted == labels).sum().item()\n",
    "    \n",
    "        epoch_loss = running_loss / len(loader)\n",
    "        epoch_accuracy = (correct_predictions / total_predictions) * 100\n",
    "        loss_history.append(epoch_loss)\n",
    "        accuracy_history.append(epoch_accuracy)\n",
    "        epoch_log = f'Epoch [{epoch+1}/{epochs}], Loss: {epoch_loss:.4f}, Accuracy: {epoch_accuracy:.2f}%'\n",
    "        logs += epoch_log + '\\n'\n",
    "        print(epoch_log)"
   ]
  },
  {
   "cell_type": "markdown",
   "id": "7114c5be-4199-4eb6-94d4-80fbeefb8c7d",
   "metadata": {},
   "source": [
    "# MNIST"
   ]
  },
  {
   "cell_type": "code",
   "execution_count": 17,
   "id": "af86a199-c5d8-41ce-b777-2095543aedec",
   "metadata": {},
   "outputs": [],
   "source": [
    "from torchvision import datasets, transforms\n",
    "from PIL import Image\n",
    "\n",
    "batch_size = 2**6\n",
    "\n",
    "transform = transforms.Compose([            \n",
    "            transforms.Grayscale(),\n",
    "            transforms.ToTensor()])\n",
    "\n",
    "train_dataset = datasets.MNIST('./data', train=True, download=True, transform=transform)\n",
    "test_dataset = datasets.MNIST('./data', train=False, transform=transform)\n",
    "\n",
    "train_loader = torch.utils.data.DataLoader(train_dataset, batch_size=batch_size, drop_last=True)\n",
    "test_loader = torch.utils.data.DataLoader(test_dataset, batch_size=batch_size, drop_last=True)\n",
    "\n",
    "def denormalize(tensor):\n",
    "    tensor = tensor * 255\n",
    "    array = tensor.cpu().numpy().astype(np.uint8)\n",
    "    if tensor.ndim == 3 and tensor.shape[0] == 1:  # CxHxW to HxW if C == 1\n",
    "        array = array.squeeze(0)  # Remove channel dimension for grayscale image\n",
    "    return Image.fromarray(array, mode='L')"
   ]
  },
  {
   "cell_type": "markdown",
   "id": "28b87ce3-31d8-49e5-baf2-36e361c011b0",
   "metadata": {},
   "source": [
    "# Instantiate and Train LIF "
   ]
  },
  {
   "cell_type": "code",
   "execution_count": 6,
   "id": "add200c0-6b9e-4de5-82ef-f65f68aed3f4",
   "metadata": {},
   "outputs": [
    {
     "name": "stdout",
     "output_type": "stream",
     "text": [
      "Accuracy before training: 9.03%\n",
      "Epoch [1/10], Loss: 2.3026, Accuracy: 11.10%\n",
      "Epoch [2/10], Loss: 2.3017, Accuracy: 11.18%\n",
      "Epoch [3/10], Loss: 2.2966, Accuracy: 12.36%\n",
      "Epoch [4/10], Loss: 1.3671, Accuracy: 55.42%\n",
      "Epoch [5/10], Loss: 0.4083, Accuracy: 88.07%\n",
      "Epoch [6/10], Loss: 0.2850, Accuracy: 91.60%\n",
      "Epoch [7/10], Loss: 0.2254, Accuracy: 93.25%\n",
      "Epoch [8/10], Loss: 0.1861, Accuracy: 94.40%\n",
      "Epoch [9/10], Loss: 0.1572, Accuracy: 95.28%\n",
      "Epoch [10/10], Loss: 0.1378, Accuracy: 95.85%\n"
     ]
    }
   ],
   "source": [
    "model = baseline(1, 28, 28)\n",
    "train(model, \"MNIST\", train_loader)"
   ]
  },
  {
   "cell_type": "markdown",
   "id": "a47feae6-5822-48da-9869-386b0118f502",
   "metadata": {},
   "source": [
    "# Evaluation (and taking a look at some misclassifications)\n",
    "There are various metrics we can gather, but the cleanest is just the raw accuracy. But when comparing models, we will need to get a bit better here to prove statstically significant differences. Sometimes it's also good to just take a step back and actually look ourselves at the kinds of images the model was unable to classify to get some sort of potential guidance of how to proceed."
   ]
  },
  {
   "cell_type": "code",
   "execution_count": 7,
   "id": "7f1d5c07-1bf3-4f9f-98d3-6ec2f8d1f448",
   "metadata": {},
   "outputs": [
    {
     "name": "stdout",
     "output_type": "stream",
     "text": [
      "Accuracy of the network on the test images: 95.44270833333333%\n",
      "-- note; failed to classify 455 image(s)\n"
     ]
    }
   ],
   "source": [
    "import numpy as np\n",
    "\n",
    "misclassified_images = []\n",
    "misclassified_labels = []\n",
    "misclassified_preds = []\n",
    "\n",
    "model.eval()\n",
    "\n",
    "correct = 0\n",
    "total = 0\n",
    "for images, labels in test_loader:\n",
    "    output_spikes = model(images)\n",
    "    outputs = output_spikes.sum(dim=0)\n",
    "    _, predicted = torch.max(outputs, 1)\n",
    "    total += labels.size(0)\n",
    "    correct += (predicted == labels).sum().item()\n",
    "\n",
    "    \n",
    "    misclassified = (predicted != labels).nonzero().squeeze()\n",
    "    if misclassified.numel() == 0:\n",
    "        continue\n",
    "    if misclassified.dim() == 0:  # Make sure misclassified is always 1D\n",
    "        misclassified = misclassified.unsqueeze(0)\n",
    "        \n",
    "    for i in misclassified:\n",
    "        img = images[i]\n",
    "        img = denormalize(img)\n",
    "        misclassified_images.append(img)\n",
    "        misclassified_labels.append(labels[i].item())\n",
    "        misclassified_preds.append(predicted[i].item())\n",
    "\n",
    "print(f'Accuracy of the network on the test images: {100 * correct / total}%')\n",
    "print(f'-- note; failed to classify {len(misclassified_images)} image(s)')"
   ]
  },
  {
   "cell_type": "markdown",
   "id": "4ea16142-5f9e-4f2b-9330-93546c73834a",
   "metadata": {},
   "source": [
    "# Taking a look at missclassifications"
   ]
  },
  {
   "cell_type": "code",
   "execution_count": 8,
   "id": "2f108f96-6250-4bb4-bd33-85c418ce56c8",
   "metadata": {},
   "outputs": [
    {
     "data": {
      "image/png": "[encoded data removed]",
      "text/plain": [
       "<Figure size 1500x1500 with 10 Axes>"
      ]
     },
     "metadata": {},
     "output_type": "display_data"
    }
   ],
   "source": [
    "import matplotlib.pyplot as plt\n",
    "\n",
    "fig, axs = plt.subplots(2, 5, figsize=(15, 15))\n",
    "axs = axs.flatten()\n",
    "for i in range(10):\n",
    "    img, pred, label = misclassified_images[i], misclassified_preds[i], misclassified_labels[i]\n",
    "    axs[i].imshow(img, cmap='gray')\n",
    "    axs[i].set_title(f\"True: {label}\\nPred: {pred}\", fontsize=20)\n",
    "    axs[i].axis('off')\n",
    "\n",
    "plt.tight_layout()\n",
    "plt.show()"
   ]
  },
  {
   "cell_type": "markdown",
   "id": "2db9b555-78d1-4e4b-a594-af60a32ff0af",
   "metadata": {},
   "source": [
    "# Adveserial Attacks\n",
    "A relatively new subject that highlights a models \"robustness\". Broadly speaking there are two classes of attacks;\n",
    "- **\"whitebox\"** attacks: are specifically designed against a models implementation. It must know a models set of parameters/weights and the \"white-box\" term reflects that transparency.\n",
    "- **\"blackbox\"** attacks: best contrasted against \"whitebox\" as being model agnostic. Techniques employed that are independent to the model implementation. Typically more preferred study due to their greater flexibility in everyday environments."
   ]
  },
  {
   "cell_type": "markdown",
   "id": "fb267848-f104-4075-bc24-9841b2c7b87f",
   "metadata": {},
   "source": [
    "# Fast Gradient Sign Method (FGSM)\n",
    "For a simple adversarial attack, we'll use the Fast Gradient Sign Method (FGSM), which is a common technique for generating adversarial examples. FGSM works by using the gradients of the neural network to create an adversarial example (hence \"white-box\". For an input image $x$, the adversarial example $x'$ is created as follows:\n",
    "\n",
    "$$\n",
    "x' = x + \\epsilon \\cdot sign(\\nabla_x J(\\theta, x, y))\n",
    "$$\n",
    "\n",
    "Where:\n",
    "- $theta$: model parameters\n",
    "- $J$: loss function\n",
    "- $\\epsilon$: small pertubation magnitude\n",
    "- $\\nabla_x J(\\theta, x, y)$: gradient of the loss wrt. input image.\n",
    "\n",
    "The idea is to take a small step in the direction of the gradient's sign, enough to mislead the model without significantly altering the perceptual quality of the image.\n",
    "\n",
    "## My issue with $\\epsilon$\n",
    "It doesn't really give me much about how \"different\" the perturbed image is, hence I want to bound the FGSM attack by a [structural similarity index measure](https://en.wikipedia.org/wiki/Structural_similarity_index_measure) (SSIM). It is a perception-based model that considers image degradation as perceived change in structural information.\n",
    "\n",
    "We know the $\\epsilon$ describes the size of the step to take for image degradation, so we can descent on this value until our perturbed image stays within our desired SSIM threshold."
   ]
  },
  {
   "cell_type": "code",
   "execution_count": 23,
   "id": "04ddc8c8-7ca6-4fb8-b117-6fe1e76af1ba",
   "metadata": {},
   "outputs": [],
   "source": [
    "import torch\n",
    "import torch.nn.functional as F\n",
    "from skimage.metrics import structural_similarity\n",
    "\n",
    "def fgsm_attack(model, loss, images, labels, eps):\n",
    "    images.requires_grad = True # attach a gradient graph\n",
    "    output_spikes = model(images)\n",
    "    output = output_spikes.sum(dim=0)\n",
    "    \n",
    "    loss = loss(output, labels)\n",
    "    \n",
    "    model.zero_grad()\n",
    "    loss.backward() # calculate gradients of model via backpropogating gradients\n",
    "\n",
    "    data_grad = images.grad\n",
    "    perturbed = images + eps * data_grad.sign()\n",
    "    return perturbed.detach() # detached tensor from that gradient graph\n",
    "\n",
    "ssim_threshold = 0.97\n",
    "\n",
    "def ssim_bound_fgsm_attack(model, loss, original, labels):\n",
    "    epsilon = 0.5 # starting epsilon huge\n",
    "\n",
    "    def ssm(perturbed, original):\n",
    "        old, new = denormalize(original.detach), denormalize(perturbed)\n",
    "    \n",
    "        # Convert PIL images to numpy arrays for SSIM computation\n",
    "        old = np.array(old)\n",
    "        new = np.array(new)\n",
    "\n",
    "        data_range = 255  # Pixel intensity range for grayscale images\n",
    "        similarity = structural_similarity(old, new, data_range=data_range)\n",
    "        return similarity\n",
    "    \n",
    "    # def ssm(perturbed, original):\n",
    "    #     old, new = denormalize(original.detach()), denormalize(perturbed)\n",
    "        \n",
    "    #     # scikit-image doesn't handle tensors, so move them to cpu and convert tensor to numpy\n",
    "    #     old = old.cpu().numpy()\n",
    "    #     new = new.cpu().numpy()\n",
    "\n",
    "    #     # Ensure the data range is appropriate for SSIM\n",
    "    #     data_range = np.max([new.max() - new.min(), old.max() - old.min()])\n",
    "    #     similarity = [structural_similarity(o.squeeze(), p.squeeze(), data_range=data_range, win_size=11, channel_axis=None) for o, p in zip(old, new)]\n",
    "    #     return np.mean(similarity)\n",
    "    \n",
    "    perturbed = fgsm_attack(model, loss, original, labels, epsilon)\n",
    "    while ssm(perturbed, original) < ssim_threshold:\n",
    "        epsilon *= 0.9\n",
    "        perturbed = fgsm_attack(model, loss, original, labels, epsilon) \n",
    "    \n",
    "    print(f'epsilon value of: {epsilon} satisfied SSIM threshold of: {ssim_threshold}')\n",
    "    return perturbed"
   ]
  },
  {
   "cell_type": "markdown",
   "id": "ea64bd5d-3238-4cb9-823e-4caa88c0a41e",
   "metadata": {},
   "source": [
    "# Applying\n",
    "We now want to capture those **instances of correctly classified images that have been perturbed in a way that causes a misclassification**."
   ]
  },
  {
   "cell_type": "code",
   "execution_count": 24,
   "id": "eca52120-f785-468f-90f3-f93bcc365262",
   "metadata": {},
   "outputs": [
    {
     "ename": "TypeError",
     "evalue": "unsupported operand type(s) for *: 'builtin_function_or_method' and 'int'",
     "output_type": "error",
     "traceback": [
      "\u001b[0;31m---------------------------------------------------------------------------\u001b[0m",
      "\u001b[0;31mTypeError\u001b[0m                                 Traceback (most recent call last)",
      "Cell \u001b[0;32mIn[24], line 15\u001b[0m\n\u001b[1;32m     13\u001b[0m \u001b[38;5;28;01mfor\u001b[39;00m images, labels \u001b[38;5;129;01min\u001b[39;00m test_loader:\n\u001b[1;32m     14\u001b[0m     original \u001b[38;5;241m=\u001b[39m images\u001b[38;5;241m.\u001b[39mclone()\n\u001b[0;32m---> 15\u001b[0m     perturbed \u001b[38;5;241m=\u001b[39m \u001b[43mssim_bound_fgsm_attack\u001b[49m\u001b[43m(\u001b[49m\u001b[43mmodel\u001b[49m\u001b[43m,\u001b[49m\u001b[43m \u001b[49m\u001b[43mcriterion\u001b[49m\u001b[43m,\u001b[49m\u001b[43m \u001b[49m\u001b[43mimages\u001b[49m\u001b[43m,\u001b[49m\u001b[43m \u001b[49m\u001b[43mlabels\u001b[49m\u001b[43m)\u001b[49m\n\u001b[1;32m     17\u001b[0m     outputs_original \u001b[38;5;241m=\u001b[39m model(original)\n\u001b[1;32m     18\u001b[0m     _, predicted_original \u001b[38;5;241m=\u001b[39m torch\u001b[38;5;241m.\u001b[39mmax(outputs_original, \u001b[38;5;241m1\u001b[39m)\n",
      "Cell \u001b[0;32mIn[23], line 48\u001b[0m, in \u001b[0;36mssim_bound_fgsm_attack\u001b[0;34m(model, loss, original, labels)\u001b[0m\n\u001b[1;32m     35\u001b[0m \u001b[38;5;66;03m# def ssm(perturbed, original):\u001b[39;00m\n\u001b[1;32m     36\u001b[0m \u001b[38;5;66;03m#     old, new = denormalize(original.detach()), denormalize(perturbed)\u001b[39;00m\n\u001b[1;32m     37\u001b[0m     \n\u001b[0;32m   (...)\u001b[0m\n\u001b[1;32m     44\u001b[0m \u001b[38;5;66;03m#     similarity = [structural_similarity(o.squeeze(), p.squeeze(), data_range=data_range, win_size=11, channel_axis=None) for o, p in zip(old, new)]\u001b[39;00m\n\u001b[1;32m     45\u001b[0m \u001b[38;5;66;03m#     return np.mean(similarity)\u001b[39;00m\n\u001b[1;32m     47\u001b[0m perturbed \u001b[38;5;241m=\u001b[39m fgsm_attack(model, loss, original, labels, epsilon)\n\u001b[0;32m---> 48\u001b[0m \u001b[38;5;28;01mwhile\u001b[39;00m \u001b[43mssm\u001b[49m\u001b[43m(\u001b[49m\u001b[43mperturbed\u001b[49m\u001b[43m,\u001b[49m\u001b[43m \u001b[49m\u001b[43moriginal\u001b[49m\u001b[43m)\u001b[49m \u001b[38;5;241m<\u001b[39m ssim_threshold:\n\u001b[1;32m     49\u001b[0m     epsilon \u001b[38;5;241m*\u001b[39m\u001b[38;5;241m=\u001b[39m \u001b[38;5;241m0.9\u001b[39m\n\u001b[1;32m     50\u001b[0m     perturbed \u001b[38;5;241m=\u001b[39m fgsm_attack(model, loss, original, labels, epsilon) \n",
      "Cell \u001b[0;32mIn[23], line 25\u001b[0m, in \u001b[0;36mssim_bound_fgsm_attack.<locals>.ssm\u001b[0;34m(perturbed, original)\u001b[0m\n\u001b[1;32m     24\u001b[0m \u001b[38;5;28;01mdef\u001b[39;00m \u001b[38;5;21mssm\u001b[39m(perturbed, original):\n\u001b[0;32m---> 25\u001b[0m     old, new \u001b[38;5;241m=\u001b[39m \u001b[43mdenormalize\u001b[49m\u001b[43m(\u001b[49m\u001b[43moriginal\u001b[49m\u001b[38;5;241;43m.\u001b[39;49m\u001b[43mdetach\u001b[49m\u001b[43m)\u001b[49m, denormalize(perturbed)\n\u001b[1;32m     27\u001b[0m     \u001b[38;5;66;03m# Convert PIL images to numpy arrays for SSIM computation\u001b[39;00m\n\u001b[1;32m     28\u001b[0m     old \u001b[38;5;241m=\u001b[39m np\u001b[38;5;241m.\u001b[39marray(old)\n",
      "Cell \u001b[0;32mIn[17], line 17\u001b[0m, in \u001b[0;36mdenormalize\u001b[0;34m(tensor)\u001b[0m\n\u001b[1;32m     16\u001b[0m \u001b[38;5;28;01mdef\u001b[39;00m \u001b[38;5;21mdenormalize\u001b[39m(tensor):\n\u001b[0;32m---> 17\u001b[0m     tensor \u001b[38;5;241m=\u001b[39m \u001b[43mtensor\u001b[49m\u001b[43m \u001b[49m\u001b[38;5;241;43m*\u001b[39;49m\u001b[43m \u001b[49m\u001b[38;5;241;43m255\u001b[39;49m\n\u001b[1;32m     18\u001b[0m     array \u001b[38;5;241m=\u001b[39m tensor\u001b[38;5;241m.\u001b[39mcpu()\u001b[38;5;241m.\u001b[39mnumpy()\u001b[38;5;241m.\u001b[39mastype(np\u001b[38;5;241m.\u001b[39muint8)\n\u001b[1;32m     19\u001b[0m     \u001b[38;5;28;01mif\u001b[39;00m tensor\u001b[38;5;241m.\u001b[39mndim \u001b[38;5;241m==\u001b[39m \u001b[38;5;241m3\u001b[39m \u001b[38;5;129;01mand\u001b[39;00m tensor\u001b[38;5;241m.\u001b[39mshape[\u001b[38;5;241m0\u001b[39m] \u001b[38;5;241m==\u001b[39m \u001b[38;5;241m1\u001b[39m:  \u001b[38;5;66;03m# CxHxW to HxW if C == 1\u001b[39;00m\n",
      "\u001b[0;31mTypeError\u001b[0m: unsupported operand type(s) for *: 'builtin_function_or_method' and 'int'"
     ]
    }
   ],
   "source": [
    "misclassified_original_images = []\n",
    "misclassified_perturbed_images = []\n",
    "misclassified_labels = []\n",
    "misclassified_preds = []\n",
    "\n",
    "model.eval()\n",
    "\n",
    "correct_after_perturbation = 0\n",
    "total = 0\n",
    "\n",
    "criterion = nn.CrossEntropyLoss() # we want to maximise the CEL\n",
    "\n",
    "for images, labels in test_loader:\n",
    "    original = images.clone()\n",
    "    perturbed = ssim_bound_fgsm_attack(model, criterion, images, labels)\n",
    "\n",
    "    outputs_original = model(original)\n",
    "    _, predicted_original = torch.max(outputs_original, 1)\n",
    "\n",
    "    outputs_perturbed = model(perturbed)\n",
    "    _, predicted_perturbed = torch.max(outputs_perturbed, 1)\n",
    "\n",
    "    total += labels.size(0)\n",
    "    correct_after_perturbation += (predicted_perturbed == labels).sum().item()\n",
    "    \n",
    "    correctly_classified_original = (predicted_original == labels)\n",
    "    misclassified_after_perturbation = (predicted_perturbed != labels)\n",
    "    truly_misclassified = correctly_classified_original & misclassified_after_perturbation\n",
    "    \n",
    "    for i in range(labels.size(0)):\n",
    "        if truly_misclassified[i]:\n",
    "            original_img = original[i]\n",
    "            perturbed_img = perturbed[i]\n",
    "            \n",
    "            misclassified_original_images.append(denormalize(original_img))\n",
    "            misclassified_perturbed_images.append(denormalize(perturbed_img))\n",
    "            misclassified_labels.append(labels[i].item())\n",
    "            misclassified_preds.append(predicted_perturbed[i].item())\n",
    "\n",
    "print(f'Accuracy of the network on the perturbed test images: {100 * correct_after_perturbation / total}%')\n",
    "# print(f'-- note; caused misclassification of {len(misclassified_perturbed_images)} additional image(s)')"
   ]
  },
  {
   "cell_type": "markdown",
   "id": "1b4bec9c-4921-4c5a-8588-31584b4c0b37",
   "metadata": {},
   "source": [
    "# Taking a look at advaserial missclassifications\n",
    "We will display these as pixel intensities as heatmaps instead to use a range of colours to highlight how the perturbed image is different."
   ]
  },
  {
   "cell_type": "code",
   "execution_count": null,
   "id": "94315012-d2a1-467c-baf4-d4bc1efe0eed",
   "metadata": {},
   "outputs": [],
   "source": [
    "def plot_images_with_diff(original_images, perturbed_images, labels, preds, n_images=5):\n",
    "    plt.figure(figsize=(15, 15))  # Adjusted figure size to accommodate an additional row for differences\n",
    "    \n",
    "    n_images = min(n_images, len(original_images))\n",
    "    for i in range(n_images):\n",
    "        # Original\n",
    "        plt.subplot(3, n_images, i + 1)\n",
    "        img = original_images[i].permute(1, 2, 0).numpy()\n",
    "        plt.imshow(img, cmap=\"gray\")\n",
    "        plt.title(f\"Label: {labels[i]}\")\n",
    "        plt.axis('off')\n",
    "        \n",
    "        # Perturbed\n",
    "        plt.subplot(3, n_images, n_images + i + 1)\n",
    "        img = perturbed_images[i].permute(1, 2, 0).numpy()\n",
    "        plt.imshow(img, cmap=\"gray\")\n",
    "        plt.title(f\"Pred: {preds[i]}\")\n",
    "        plt.axis('off')\n",
    "        \n",
    "    plt.tight_layout()\n",
    "    plt.show()\n",
    "\n",
    "plot_images_with_diff(torch.stack(misclassified_original_images), torch.stack(misclassified_perturbed_images), misclassified_labels, misclassified_preds)"
   ]
  }
 ],
 "metadata": {
  "kernelspec": {
   "display_name": "Python 3 (ipykernel)",
   "language": "python",
   "name": "python3"
  },
  "language_info": {
   "codemirror_mode": {
    "name": "ipython",
    "version": 3
   },
   "file_extension": ".py",
   "mimetype": "text/x-python",
   "name": "python",
   "nbconvert_exporter": "python",
   "pygments_lexer": "ipython3",
   "version": "3.12.0"
  }
 },
 "nbformat": 4,
 "nbformat_minor": 5
}
