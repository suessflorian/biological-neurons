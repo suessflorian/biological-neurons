{
 "cells": [
  {
   "cell_type": "code",
   "execution_count": 30,
   "metadata": {},
   "outputs": [],
   "source": [
    "import torch\n",
    "import torchvision\n",
    "from models import GeneralParaLIF, SimpleParaLif, SimpleSNN, GeneralSNN\n",
    "from utils import load_data, printf, rate\n",
    "import time\n",
    "import foolbox as fb\n",
    "from attacks import foolbox_attack\n",
    "import matplotlib.pyplot as plt\n",
    "\n",
    "device = torch.device('mps' if torch.backends.mps.is_available() else 'cuda' if torch.cuda.is_available() else 'cpu')\n",
    "\n",
    "\n",
    "##### Options #####\n",
    "\n",
    "batch_size = 256\n",
    "learning_rate = 0.001 # use 0.001 for ParaLIF\n",
    "\n",
    "steps = [1,3,5,10,20,30,40]  # powers of 2 so we have results on the log scale\n",
    "\n",
    "n_epochs = 10\n",
    "\n",
    "# optimizer = torch.optim.SGD # Best for SimpleSNN\n",
    "# optimizer = torch.optim.Adam # NOTE: Adam doesn't seem to perform well on CIFAR with SimpleSNN\n",
    "optimizer = torch.optim.Adamax # Best for ParaLIF\n",
    "\n",
    "tau_mem = 0.02\n",
    "tau_syn = 0.02\n",
    "decay_rate = 0.\n",
    "spike_mode = 'SB' # ['SB', 'TRB', 'D', 'SD', 'TD', 'TRD', 'T', 'TT', 'ST', 'TRT', 'GS']\n",
    "\n",
    "dataset = 'emnist' # [mnist, cifar, fashion, emnist, kmnist, svhn]\n",
    "\n",
    "attacks = [fb.attacks.LinfFastGradientAttack(), \n",
    "           fb.attacks.LinfDeepFoolAttack(),\n",
    "           fb.attacks.LInfFMNAttack(),\n",
    "           ]\n",
    "\n",
    "\n",
    "##### Functions #####\n",
    "\n",
    "def add_noise(features, n_steps):\n",
    "    return rate(features, num_steps=n_steps).mean(dim=0)\n",
    " \n",
    "def train_model(model, loader, optimizer, device, num_steps, n_epochs=20):\n",
    "    criterion = torch.nn.CrossEntropyLoss()\n",
    "    for epoch in range(n_epochs):\n",
    "        model.train()\n",
    "        n_correct, n_total = 0, 0\n",
    "        for i, (features, labels) in enumerate(loader):\n",
    "            features, labels = features.to(device), labels.to(device)\n",
    "            output = model(features)\n",
    "            loss = criterion(output, labels)\n",
    "            optimizer.zero_grad()\n",
    "            loss.backward()\n",
    "            optimizer.step()\n",
    "            correct = (output.argmax(dim = -1) == labels).sum().item()\n",
    "            n_correct += correct\n",
    "            n_total += len(labels)\n",
    "            if (i + 1) % 20 == 0:\n",
    "                printf(f'Epoch: [{epoch+1}/{n_epochs}], Batch: [{i+1}/{len(loader)}], Loss: {loss.item():.4f}, Training Accuracy: {correct/len(labels):.4f}, num_steps={num_steps}')\n",
    "    return model\n",
    "\n",
    "def test_model(model, loader, device, num_steps):\n",
    "    with torch.no_grad():\n",
    "        model.eval()\n",
    "        n_correct, n_total = 0, 0\n",
    "        \n",
    "        for features, labels in loader:\n",
    "            features = add_noise(features, num_steps)\n",
    "            \n",
    "            features, labels = features.to(device), labels.to(device)\n",
    "            output = model(features)\n",
    "            output = output.argmax(dim=-1)\n",
    "            n_correct += (output == labels).sum().item()\n",
    "            n_total += len(labels)\n",
    "    \n",
    "        return n_correct / n_total\n",
    "\n",
    "def adv_attack(model_for_attack, attack, num_steps):\n",
    "    total = 0\n",
    "    total_successful = 0\n",
    "\n",
    "    for i, (images, labels) in enumerate(test_loader):\n",
    "        \n",
    "        images, labels = images.to(device), labels.to(device)\n",
    "        raw_attack, perturbed_image, perturbed_prediction, original_prediction = foolbox_attack(model_for_attack, \n",
    "                                                                                                images=images, \n",
    "                                                                                                labels=labels, \n",
    "                                                                                                attack=attack, \n",
    "                                                                                                epsilons=0.05,\n",
    "                                                                                                device=device)\n",
    "\n",
    "        \n",
    "        correct_pre_attack = (original_prediction == labels)\n",
    "        correct_post_attack = (perturbed_prediction == labels)\n",
    "        \n",
    "        total += correct_pre_attack.sum().item()\n",
    "        \n",
    "        if raw_attack is None: # no attack found    \n",
    "            continue\n",
    "        \n",
    "        successful_attack_indices = (correct_pre_attack & ~correct_post_attack).view(-1)\n",
    "        n_successful_attacks = successful_attack_indices.sum().item()\n",
    "        printf(f'Batch: [{i}/{len(test_loader)}], ' \n",
    "            + f'Successful Attacks: [{n_successful_attacks}/{correct_pre_attack.sum().item()}], '\n",
    "            + f'Batch Model Accuracy: [{correct_pre_attack.sum().item()}/{len(labels)}], '\n",
    "            + f'num_steps: {num_steps}')\n",
    "        \n",
    "        total_successful += n_successful_attacks\n",
    "    return total_successful / total\n",
    "\n",
    "\n",
    "##### Data #####\n",
    "\n",
    "transforms = torchvision.transforms.Compose([\n",
    "    torchvision.transforms.ToTensor(),\n",
    "    torchvision.transforms.Normalize((0,0,0), (1,1,1)) if dataset == 'cifar' else torchvision.transforms.Normalize(0, 1)\n",
    "])\n",
    "\n",
    "train_dataset, train_loader = load_data(dataset=dataset, path='data', train=True, batch_size=batch_size, transforms=transforms)\n",
    "test_dataset, test_loader = load_data(dataset=dataset, path='data', train=False, batch_size=batch_size, transforms=transforms)\n"
   ]
  },
  {
   "cell_type": "code",
   "execution_count": 31,
   "metadata": {},
   "outputs": [
    {
     "name": "stdout",
     "output_type": "stream",
     "text": [
      "Batch: [53/82], Successful Attacks: [76/216], Batch Model Accuracy: [216/256], num_steps: 40"
     ]
    },
    {
     "ename": "KeyboardInterrupt",
     "evalue": "",
     "output_type": "error",
     "traceback": [
      "\u001b[0;31m---------------------------------------------------------------------------\u001b[0m",
      "\u001b[0;31mKeyboardInterrupt\u001b[0m                         Traceback (most recent call last)",
      "Cell \u001b[0;32mIn[31], line 19\u001b[0m\n\u001b[1;32m     17\u001b[0m attack_susceptibility\u001b[38;5;241m.\u001b[39mappend([])\n\u001b[1;32m     18\u001b[0m \u001b[38;5;28;01mfor\u001b[39;00m attack \u001b[38;5;129;01min\u001b[39;00m attacks:\n\u001b[0;32m---> 19\u001b[0m     attack_susceptibility[\u001b[38;5;241m-\u001b[39m\u001b[38;5;241m1\u001b[39m]\u001b[38;5;241m.\u001b[39mappend(\u001b[43madv_attack\u001b[49m\u001b[43m(\u001b[49m\u001b[43mmodel\u001b[49m\u001b[43m,\u001b[49m\u001b[43m \u001b[49m\u001b[43mattack\u001b[49m\u001b[38;5;241;43m=\u001b[39;49m\u001b[43mattack\u001b[49m\u001b[43m,\u001b[49m\u001b[43m \u001b[49m\u001b[43mnum_steps\u001b[49m\u001b[38;5;241;43m=\u001b[39;49m\u001b[43mn_steps\u001b[49m\u001b[43m)\u001b[49m)\n",
      "Cell \u001b[0;32mIn[30], line 86\u001b[0m, in \u001b[0;36madv_attack\u001b[0;34m(model_for_attack, attack, num_steps)\u001b[0m\n\u001b[1;32m     83\u001b[0m \u001b[38;5;28;01mfor\u001b[39;00m i, (images, labels) \u001b[38;5;129;01min\u001b[39;00m \u001b[38;5;28menumerate\u001b[39m(test_loader):\n\u001b[1;32m     85\u001b[0m     images, labels \u001b[38;5;241m=\u001b[39m images\u001b[38;5;241m.\u001b[39mto(device), labels\u001b[38;5;241m.\u001b[39mto(device)\n\u001b[0;32m---> 86\u001b[0m     raw_attack, perturbed_image, perturbed_prediction, original_prediction \u001b[38;5;241m=\u001b[39m \u001b[43mfoolbox_attack\u001b[49m\u001b[43m(\u001b[49m\u001b[43mmodel_for_attack\u001b[49m\u001b[43m,\u001b[49m\u001b[43m \u001b[49m\n\u001b[1;32m     87\u001b[0m \u001b[43m                                                                                            \u001b[49m\u001b[43mimages\u001b[49m\u001b[38;5;241;43m=\u001b[39;49m\u001b[43mimages\u001b[49m\u001b[43m,\u001b[49m\u001b[43m \u001b[49m\n\u001b[1;32m     88\u001b[0m \u001b[43m                                                                                            \u001b[49m\u001b[43mlabels\u001b[49m\u001b[38;5;241;43m=\u001b[39;49m\u001b[43mlabels\u001b[49m\u001b[43m,\u001b[49m\u001b[43m \u001b[49m\n\u001b[1;32m     89\u001b[0m \u001b[43m                                                                                            \u001b[49m\u001b[43mattack\u001b[49m\u001b[38;5;241;43m=\u001b[39;49m\u001b[43mattack\u001b[49m\u001b[43m,\u001b[49m\u001b[43m \u001b[49m\n\u001b[1;32m     90\u001b[0m \u001b[43m                                                                                            \u001b[49m\u001b[43mepsilons\u001b[49m\u001b[38;5;241;43m=\u001b[39;49m\u001b[38;5;241;43m0.05\u001b[39;49m\u001b[43m,\u001b[49m\n\u001b[1;32m     91\u001b[0m \u001b[43m                                                                                            \u001b[49m\u001b[43mdevice\u001b[49m\u001b[38;5;241;43m=\u001b[39;49m\u001b[43mdevice\u001b[49m\u001b[43m)\u001b[49m\n\u001b[1;32m     94\u001b[0m     correct_pre_attack \u001b[38;5;241m=\u001b[39m (original_prediction \u001b[38;5;241m==\u001b[39m labels)\n\u001b[1;32m     95\u001b[0m     correct_post_attack \u001b[38;5;241m=\u001b[39m (perturbed_prediction \u001b[38;5;241m==\u001b[39m labels)\n",
      "File \u001b[0;32m~/Documents/GitHub/biological-neurons/Baseline Models/attacks.py:23\u001b[0m, in \u001b[0;36mfoolbox_attack\u001b[0;34m(model, images, labels, attack, epsilons, device)\u001b[0m\n\u001b[1;32m     21\u001b[0m fmodel \u001b[38;5;241m=\u001b[39m fb\u001b[38;5;241m.\u001b[39mPyTorchModel(model, bounds\u001b[38;5;241m=\u001b[39m(\u001b[38;5;241m0\u001b[39m,\u001b[38;5;241m1\u001b[39m), device\u001b[38;5;241m=\u001b[39mdevice)\n\u001b[1;32m     22\u001b[0m \u001b[38;5;66;03m# try:\u001b[39;00m\n\u001b[0;32m---> 23\u001b[0m raw_attack, perturbed_image, is_adv \u001b[38;5;241m=\u001b[39m \u001b[43mattack\u001b[49m\u001b[43m(\u001b[49m\u001b[43mfmodel\u001b[49m\u001b[43m,\u001b[49m\u001b[43m \u001b[49m\u001b[43mimages\u001b[49m\u001b[43m,\u001b[49m\u001b[43m \u001b[49m\u001b[43mlabels\u001b[49m\u001b[43m,\u001b[49m\u001b[43m \u001b[49m\u001b[43mepsilons\u001b[49m\u001b[38;5;241;43m=\u001b[39;49m\u001b[43mepsilons\u001b[49m\u001b[43m)\u001b[49m\n\u001b[1;32m     24\u001b[0m \u001b[38;5;28;01mwith\u001b[39;00m torch\u001b[38;5;241m.\u001b[39mno_grad():\n\u001b[1;32m     25\u001b[0m     original_predictions \u001b[38;5;241m=\u001b[39m model(images)\u001b[38;5;241m.\u001b[39margmax(dim \u001b[38;5;241m=\u001b[39m \u001b[38;5;241m-\u001b[39m\u001b[38;5;241m1\u001b[39m)\n",
      "File \u001b[0;32m/Library/Frameworks/Python.framework/Versions/3.10/lib/python3.10/site-packages/foolbox/attacks/base.py:416\u001b[0m, in \u001b[0;36mMinimizationAttack.__call__\u001b[0;34m(***failed resolving arguments***)\u001b[0m\n\u001b[1;32m    413\u001b[0m     early_stop \u001b[38;5;241m=\u001b[39m \u001b[38;5;28mmin\u001b[39m(epsilons)  \u001b[38;5;66;03m# type: ignore\u001b[39;00m\n\u001b[1;32m    415\u001b[0m \u001b[38;5;66;03m# run the actual attack\u001b[39;00m\n\u001b[0;32m--> 416\u001b[0m xp \u001b[38;5;241m=\u001b[39m \u001b[38;5;28;43mself\u001b[39;49m\u001b[38;5;241;43m.\u001b[39;49m\u001b[43mrun\u001b[49m\u001b[43m(\u001b[49m\u001b[43mmodel\u001b[49m\u001b[43m,\u001b[49m\u001b[43m \u001b[49m\u001b[43mx\u001b[49m\u001b[43m,\u001b[49m\u001b[43m \u001b[49m\u001b[43mcriterion\u001b[49m\u001b[43m,\u001b[49m\u001b[43m \u001b[49m\u001b[43mearly_stop\u001b[49m\u001b[38;5;241;43m=\u001b[39;49m\u001b[43mearly_stop\u001b[49m\u001b[43m,\u001b[49m\u001b[43m \u001b[49m\u001b[38;5;241;43m*\u001b[39;49m\u001b[38;5;241;43m*\u001b[39;49m\u001b[43mkwargs\u001b[49m\u001b[43m)\u001b[49m\n\u001b[1;32m    418\u001b[0m xpcs \u001b[38;5;241m=\u001b[39m []\n\u001b[1;32m    419\u001b[0m success \u001b[38;5;241m=\u001b[39m []\n",
      "File \u001b[0;32m/Library/Frameworks/Python.framework/Versions/3.10/lib/python3.10/site-packages/foolbox/attacks/deepfool.py:150\u001b[0m, in \u001b[0;36mDeepFoolAttack.run\u001b[0;34m(***failed resolving arguments***)\u001b[0m\n\u001b[1;32m    145\u001b[0m     \u001b[38;5;28;01mbreak\u001b[39;00m\n\u001b[1;32m    147\u001b[0m \u001b[38;5;66;03m# then run all the other k's as well\u001b[39;00m\n\u001b[1;32m    148\u001b[0m \u001b[38;5;66;03m# we could avoid repeated forward passes and only repeat\u001b[39;00m\n\u001b[1;32m    149\u001b[0m \u001b[38;5;66;03m# the backward pass, but this cannot currently be done in eagerpy\u001b[39;00m\n\u001b[0;32m--> 150\u001b[0m diffs \u001b[38;5;241m+\u001b[39m\u001b[38;5;241m=\u001b[39m [loss_aux_and_grad(x, k) \u001b[38;5;28;01mfor\u001b[39;00m k \u001b[38;5;129;01min\u001b[39;00m \u001b[38;5;28mrange\u001b[39m(\u001b[38;5;241m2\u001b[39m, candidates)]\n\u001b[1;32m    152\u001b[0m \u001b[38;5;66;03m# we don't need the logits\u001b[39;00m\n\u001b[1;32m    153\u001b[0m diffs_ \u001b[38;5;241m=\u001b[39m [(losses, grad) \u001b[38;5;28;01mfor\u001b[39;00m _, (losses, _), grad \u001b[38;5;129;01min\u001b[39;00m diffs]\n",
      "File \u001b[0;32m/Library/Frameworks/Python.framework/Versions/3.10/lib/python3.10/site-packages/foolbox/attacks/deepfool.py:150\u001b[0m, in \u001b[0;36m<listcomp>\u001b[0;34m(.0)\u001b[0m\n\u001b[1;32m    145\u001b[0m     \u001b[38;5;28;01mbreak\u001b[39;00m\n\u001b[1;32m    147\u001b[0m \u001b[38;5;66;03m# then run all the other k's as well\u001b[39;00m\n\u001b[1;32m    148\u001b[0m \u001b[38;5;66;03m# we could avoid repeated forward passes and only repeat\u001b[39;00m\n\u001b[1;32m    149\u001b[0m \u001b[38;5;66;03m# the backward pass, but this cannot currently be done in eagerpy\u001b[39;00m\n\u001b[0;32m--> 150\u001b[0m diffs \u001b[38;5;241m+\u001b[39m\u001b[38;5;241m=\u001b[39m [\u001b[43mloss_aux_and_grad\u001b[49m\u001b[43m(\u001b[49m\u001b[43mx\u001b[49m\u001b[43m,\u001b[49m\u001b[43m \u001b[49m\u001b[43mk\u001b[49m\u001b[43m)\u001b[49m \u001b[38;5;28;01mfor\u001b[39;00m k \u001b[38;5;129;01min\u001b[39;00m \u001b[38;5;28mrange\u001b[39m(\u001b[38;5;241m2\u001b[39m, candidates)]\n\u001b[1;32m    152\u001b[0m \u001b[38;5;66;03m# we don't need the logits\u001b[39;00m\n\u001b[1;32m    153\u001b[0m diffs_ \u001b[38;5;241m=\u001b[39m [(losses, grad) \u001b[38;5;28;01mfor\u001b[39;00m _, (losses, _), grad \u001b[38;5;129;01min\u001b[39;00m diffs]\n",
      "File \u001b[0;32m/Library/Frameworks/Python.framework/Versions/3.10/lib/python3.10/site-packages/eagerpy/tensor/pytorch.py:503\u001b[0m, in \u001b[0;36mPyTorchTensor._value_and_grad_fn.<locals>.value_and_grad\u001b[0;34m(x, *args, **kwargs)\u001b[0m\n\u001b[1;32m    501\u001b[0m x \u001b[38;5;241m=\u001b[39m \u001b[38;5;28mtype\u001b[39m(\u001b[38;5;28mself\u001b[39m)(x\u001b[38;5;241m.\u001b[39mraw\u001b[38;5;241m.\u001b[39mclone()\u001b[38;5;241m.\u001b[39mrequires_grad_())\n\u001b[1;32m    502\u001b[0m \u001b[38;5;28;01mif\u001b[39;00m has_aux:\n\u001b[0;32m--> 503\u001b[0m     loss, aux \u001b[38;5;241m=\u001b[39m \u001b[43mf\u001b[49m\u001b[43m(\u001b[49m\u001b[43mx\u001b[49m\u001b[43m,\u001b[49m\u001b[43m \u001b[49m\u001b[38;5;241;43m*\u001b[39;49m\u001b[43margs\u001b[49m\u001b[43m,\u001b[49m\u001b[43m \u001b[49m\u001b[38;5;241;43m*\u001b[39;49m\u001b[38;5;241;43m*\u001b[39;49m\u001b[43mkwargs\u001b[49m\u001b[43m)\u001b[49m\n\u001b[1;32m    504\u001b[0m \u001b[38;5;28;01melse\u001b[39;00m:\n\u001b[1;32m    505\u001b[0m     loss \u001b[38;5;241m=\u001b[39m f(x, \u001b[38;5;241m*\u001b[39margs, \u001b[38;5;241m*\u001b[39m\u001b[38;5;241m*\u001b[39mkwargs)\n",
      "File \u001b[0;32m/Library/Frameworks/Python.framework/Versions/3.10/lib/python3.10/site-packages/foolbox/attacks/deepfool.py:74\u001b[0m, in \u001b[0;36mDeepFoolAttack._get_loss_fn.<locals>.loss_fun\u001b[0;34m(x, k)\u001b[0m\n\u001b[1;32m     72\u001b[0m logits \u001b[38;5;241m=\u001b[39m model(x)\n\u001b[1;32m     73\u001b[0m ik \u001b[38;5;241m=\u001b[39m classes[:, k]\n\u001b[0;32m---> 74\u001b[0m l0 \u001b[38;5;241m=\u001b[39m \u001b[43mlogits\u001b[49m\u001b[43m[\u001b[49m\u001b[43mrows\u001b[49m\u001b[43m,\u001b[49m\u001b[43m \u001b[49m\u001b[43mi0\u001b[49m\u001b[43m]\u001b[49m\n\u001b[1;32m     75\u001b[0m lk \u001b[38;5;241m=\u001b[39m logits[rows, ik]\n\u001b[1;32m     76\u001b[0m loss \u001b[38;5;241m=\u001b[39m lk \u001b[38;5;241m-\u001b[39m l0\n",
      "File \u001b[0;32m/Library/Frameworks/Python.framework/Versions/3.10/lib/python3.10/site-packages/eagerpy/tensor/pytorch.py:588\u001b[0m, in \u001b[0;36mPyTorchTensor.__getitem__\u001b[0;34m(self, index)\u001b[0m\n\u001b[1;32m    586\u001b[0m \u001b[38;5;28;01melif\u001b[39;00m \u001b[38;5;28misinstance\u001b[39m(index, Tensor):\n\u001b[1;32m    587\u001b[0m     index \u001b[38;5;241m=\u001b[39m index\u001b[38;5;241m.\u001b[39mraw\n\u001b[0;32m--> 588\u001b[0m \u001b[38;5;28;01mreturn\u001b[39;00m \u001b[38;5;28;43mtype\u001b[39;49m\u001b[43m(\u001b[49m\u001b[38;5;28;43mself\u001b[39;49m\u001b[43m)\u001b[49m\u001b[43m(\u001b[49m\u001b[38;5;28;43mself\u001b[39;49m\u001b[38;5;241;43m.\u001b[39;49m\u001b[43mraw\u001b[49m\u001b[43m[\u001b[49m\u001b[43mindex\u001b[49m\u001b[43m]\u001b[49m\u001b[43m)\u001b[49m\n",
      "File \u001b[0;32m/Library/Frameworks/Python.framework/Versions/3.10/lib/python3.10/site-packages/eagerpy/tensor/pytorch.py:51\u001b[0m, in \u001b[0;36mPyTorchTensor.__init__\u001b[0;34m(self, raw)\u001b[0m\n\u001b[1;32m     48\u001b[0m \u001b[38;5;66;03m# more specific types for the extensions\u001b[39;00m\n\u001b[1;32m     49\u001b[0m norms: \u001b[38;5;124m\"\u001b[39m\u001b[38;5;124mNormsMethods[PyTorchTensor]\u001b[39m\u001b[38;5;124m\"\u001b[39m\n\u001b[0;32m---> 51\u001b[0m \u001b[38;5;28;01mdef\u001b[39;00m \u001b[38;5;21m__init__\u001b[39m(\u001b[38;5;28mself\u001b[39m, raw: \u001b[38;5;124m\"\u001b[39m\u001b[38;5;124mtorch.Tensor\u001b[39m\u001b[38;5;124m\"\u001b[39m):\n\u001b[1;32m     52\u001b[0m     \u001b[38;5;28;01mglobal\u001b[39;00m torch\n\u001b[1;32m     53\u001b[0m     \u001b[38;5;28;01mif\u001b[39;00m torch \u001b[38;5;129;01mis\u001b[39;00m \u001b[38;5;28;01mNone\u001b[39;00m:\n",
      "\u001b[0;31mKeyboardInterrupt\u001b[0m: "
     ]
    }
   ],
   "source": [
    "##### Model #####\n",
    "\n",
    "train_accuracy = []\n",
    "test_accuracy = []\n",
    "attack_susceptibility = []\n",
    "\n",
    "\n",
    "for n_steps in steps:\n",
    "    #model = GeneralSNN(layer_sizes=(28*28, 1024, 768, 512, 256, 128, 10), num_steps=n_steps).to(device)\n",
    "    #model = GeneralParaLIF(layer_sizes=(28*28, 1024, 768, 512, 256, 128, 47), device=device, spike_mode=spike_mode, num_steps=n_steps, tau_mem=tau_mem, tau_syn=tau_syn).to(device)\n",
    "    model = GeneralParaLIF(layer_sizes=(28*28, 2**9, 2**8, 2**7, 47), device=device, spike_mode=spike_mode, num_steps=n_steps, tau_mem=tau_mem, tau_syn=tau_syn).to(device)\n",
    "    optimizer = torch.optim.Adamax(model.parameters(), lr=learning_rate)\n",
    "    start_time = time.time()\n",
    "    model = train_model(model, loader=train_loader, optimizer=optimizer,device=device,num_steps=n_steps, n_epochs=n_epochs)\n",
    "    train_accuracy.append(test_model(model, loader=train_loader, device=device, num_steps=n_steps))\n",
    "    test_accuracy.append(test_model(model, loader=test_loader, device=device, num_steps=n_steps))\n",
    "    attack_susceptibility.append([])\n",
    "    for attack in attacks:\n",
    "        attack_susceptibility[-1].append(adv_attack(model, attack=attack, num_steps=n_steps))"
   ]
  },
  {
   "cell_type": "code",
   "execution_count": 21,
   "metadata": {},
   "outputs": [
    {
     "name": "stdout",
     "output_type": "stream",
     "text": [
      "[0.10441666666666667, 0.10441666666666667, 0.09863333333333334, 0.10218333333333333, 0.09915, 0.10441666666666667, 0.6849]\n",
      "[0.1028, 0.1028, 0.0958, 0.101, 0.1009, 0.1028, 0.6862]\n",
      "[[0.0, 0.0, 0.0], [0.0, 0.0, 0.0], [0.0, 0.0, 0.0], [0.0, 0.0, 0.0], [0.0, 0.0, 0.0], [0.0, 0.0, 0.0], [0.10332264645875838, 0.002768872048965316, 0.0011665208515602217]]\n"
     ]
    },
    {
     "data": {
      "text/plain": [
       "[0.0, 0.0, 0.0, 0.0, 0.0, 0.0, 0.10332264645875838]"
      ]
     },
     "metadata": {},
     "output_type": "display_data"
    },
    {
     "data": {
      "text/plain": [
       "[0.0, 0.0, 0.0, 0.0, 0.0, 0.0, 0.002768872048965316]"
      ]
     },
     "metadata": {},
     "output_type": "display_data"
    },
    {
     "data": {
      "text/plain": [
       "[0.0, 0.0, 0.0, 0.0, 0.0, 0.0, 0.0011665208515602217]"
      ]
     },
     "metadata": {},
     "output_type": "display_data"
    }
   ],
   "source": [
    "print(train_accuracy)\n",
    "print(test_accuracy)\n",
    "\n",
    "print(attack_susceptibility)\n",
    "FGA_list = [attack_list[0] for attack_list in attack_susceptibility]\n",
    "DFA_list = [attack_list[1] for attack_list in attack_susceptibility]\n",
    "FMNA_list = [attack_list[2] for attack_list in attack_susceptibility]\n",
    "display(FGA_list)\n",
    "display(DFA_list)\n",
    "display(FMNA_list)"
   ]
  },
  {
   "cell_type": "code",
   "execution_count": null,
   "metadata": {},
   "outputs": [],
   "source": [
    "##### Plotting #####\n",
    "fig, axs = plt.subplots(2, 1)\n",
    "#axs[0].set_xscale('log')\n",
    "#axs[1].set_xscale('log')\n",
    "axs[0].plot(steps, train_accuracy, label = 'Train Accuracy')\n",
    "axs[0].plot(steps, test_accuracy, label='Test Accuracy')\n",
    "axs[0].legend(loc='lower right')\n",
    "axs[0].set_ylabel('Accuracy')\n",
    "axs[1].plot(steps, FGA_list, label='FG Attack')\n",
    "axs[1].plot(steps, DFA_list, label='DF Attack')\n",
    "axs[1].plot(steps, FMNA_list, label='FMN Attack')\n",
    "axs[1].legend(loc='upper right')\n",
    "axs[1].set_xlabel('Number of Steps')\n",
    "axs[1].set_ylabel('Attack Success Rate')\n",
    "plt.suptitle('Impact of Number of Steps\\n MNIST, eplison=0.05')\n",
    "# axs[0].set_xticks(torch.arange(min(steps), max(steps)))\n",
    "# axs[1].set_xticks(torch.arange(min(steps), max(steps)))\n",
    "# axs[0].set_yticks(torch.arange(min(attack_susceptibility) - 0.1, max(attack_susceptibility) + 0.1))\n",
    "# axs[1].set_yticks(torch.arange(min(train_accuracy + test_accuracy), min(train_accuracy + test_accuracy)))\n",
    "plt.show()"
   ]
  }
 ],
 "metadata": {
  "kernelspec": {
   "display_name": "Python 3",
   "language": "python",
   "name": "python3"
  },
  "language_info": {
   "codemirror_mode": {
    "name": "ipython",
    "version": 3
   },
   "file_extension": ".py",
   "mimetype": "text/x-python",
   "name": "python",
   "nbconvert_exporter": "python",
   "pygments_lexer": "ipython3",
   "version": "3.10.11"
  }
 },
 "nbformat": 4,
 "nbformat_minor": 2
}
