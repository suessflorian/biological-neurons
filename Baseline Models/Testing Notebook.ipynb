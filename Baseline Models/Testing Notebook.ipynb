{
 "cells": [
  {
   "cell_type": "code",
   "execution_count": 5,
   "metadata": {},
   "outputs": [],
   "source": [
    "import torch\n",
    "import torchvision\n",
    "import torch.nn.functional as F\n",
    "import torch.nn as nn\n",
    "import matplotlib.pyplot as plt\n",
    "\n",
    "from utils import printf, load_data\n",
    "from models import SimpleSNN\n",
    "import snntorch as snn\n",
    "\n",
    "# device = torch.device('mps')\n",
    "device = torch.device('cpu')"
   ]
  },
  {
   "cell_type": "code",
   "execution_count": 2,
   "metadata": {},
   "outputs": [
    {
     "name": "stdout",
     "output_type": "stream",
     "text": [
      "Files already downloaded and verified\n",
      "Files already downloaded and verified\n"
     ]
    }
   ],
   "source": [
    "transforms = torchvision.transforms.Compose([\n",
    "    torchvision.transforms.ToTensor(),\n",
    "    torchvision.transforms.Normalize(0,1)\n",
    "])\n",
    "\n",
    "batch_size = 256\n",
    "\n",
    "train_dataset, train_loader = load_data('cifar', path='../data', batch_size=batch_size)\n",
    "test_dataset, test_loader = load_data('cifar', path='../data', batch_size=batch_size, train=False)"
   ]
  },
  {
   "cell_type": "code",
   "execution_count": 3,
   "metadata": {},
   "outputs": [
    {
     "data": {
      "image/png": "[encoded data removed]",
      "text/plain": [
       "<Figure size 640x480 with 1 Axes>"
      ]
     },
     "metadata": {},
     "output_type": "display_data"
    }
   ],
   "source": [
    "features, labels = next(iter(train_loader))\n",
    "plt.imshow(features[0].permute(1,2,0))\n",
    "plt.show()"
   ]
  },
  {
   "cell_type": "markdown",
   "metadata": {},
   "source": [
    "# Training"
   ]
  },
  {
   "cell_type": "code",
   "execution_count": 4,
   "metadata": {},
   "outputs": [
    {
     "name": "stdout",
     "output_type": "stream",
     "text": [
      "0.11142\n",
      "0.21462\n",
      "0.26638\n",
      "0.30184\n",
      "0.32466\n",
      "0.33432\n",
      "0.34412\n",
      "0.35312\n",
      "0.36168\n",
      "0.37754\n"
     ]
    }
   ],
   "source": [
    "model = SimpleSNN(3*32*32, num_steps=10).to(device)\n",
    "criterion = nn.CrossEntropyLoss()\n",
    "optimizer = torch.optim.SGD(model.parameters(), lr=0.01)\n",
    "\n",
    "n_epochs = 10\n",
    "for epoch in range(n_epochs):\n",
    "    n_correct, n_total = 0., 0.\n",
    "    for features, labels in train_loader:\n",
    "        features, labels = features.to(device), labels.to(device)\n",
    "        output = model(features)\n",
    "        loss = criterion(output, labels)\n",
    "        \n",
    "        optimizer.zero_grad()\n",
    "        loss.backward()\n",
    "        optimizer.step()\n",
    "\n",
    "        n_correct += (output.argmax(dim=-1) == labels).sum().item()\n",
    "        n_total += len(labels)\n",
    "    print(n_correct / n_total)"
   ]
  },
  {
   "cell_type": "markdown",
   "metadata": {},
   "source": [
    "# Evaluation"
   ]
  },
  {
   "cell_type": "code",
   "execution_count": null,
   "metadata": {},
   "outputs": [
    {
     "name": "stdout",
     "output_type": "stream",
     "text": [
      "0.9701\n"
     ]
    }
   ],
   "source": [
    "with torch.no_grad():\n",
    "    n_correct, n_total = 0., 0.\n",
    "    for features, labels in test_loader:\n",
    "        output = model(features)\n",
    "        \n",
    "\n",
    "        n_correct += (output.argmax(dim=-1) == labels).sum().item()\n",
    "        n_total += len(labels)\n",
    "    print(n_correct / n_total)"
   ]
  },
  {
   "cell_type": "markdown",
   "metadata": {},
   "source": [
    "# Attacks"
   ]
  },
  {
   "cell_type": "code",
   "execution_count": null,
   "metadata": {},
   "outputs": [],
   "source": [
    "def fgsm_attack(model, loss_fn, images, labels, epsilon):\n",
    "    '''Fast Gradient Sign Method'''\n",
    "    images.requires_grad = True\n",
    "    outputs = model(images)\n",
    "    loss = loss_fn(outputs, labels)\n",
    "    loss.backward()\n",
    "    image_gradients = images.grad.data\n",
    "    perturbed_image = images + epsilon * image_gradients.sign()\n",
    "    perturbed_image = torch.clamp(perturbed_image, -1, 1)\n",
    "    output = model(perturbed_image)\n",
    "    return perturbed_image, output.argmax(dim = -1)"
   ]
  },
  {
   "cell_type": "code",
   "execution_count": null,
   "metadata": {},
   "outputs": [],
   "source": [
    "features, labels = next(iter(train_loader))\n",
    "features, labels = features.to(device), labels.to(device)\n",
    "perturbed, perturbed_output = fgsm_attack(model, nn.CrossEntropyLoss(), features, labels, epsilon=0.01)"
   ]
  },
  {
   "cell_type": "code",
   "execution_count": null,
   "metadata": {},
   "outputs": [
    {
     "data": {
      "text/plain": [
       "tensor([  6,  25,  34,  39,  55, 100, 101, 118, 146, 158, 226, 241])"
      ]
     },
     "execution_count": 78,
     "metadata": {},
     "output_type": "execute_result"
    }
   ],
   "source": [
    "model.eval()\n",
    "predictions_on_perturbed = model(perturbed).argmax(dim=1)\n",
    "predictions_on_originals = model(features).argmax(dim=1)\n",
    "\n",
    "(predictions_on_perturbed != predictions_on_originals).nonzero().view(-1)"
   ]
  },
  {
   "cell_type": "code",
   "execution_count": null,
   "metadata": {},
   "outputs": [
    {
     "data": {
      "text/plain": [
       "Text(0.5, 1.0, 'Prediction: 9')"
      ]
     },
     "execution_count": 79,
     "metadata": {},
     "output_type": "execute_result"
    },
    {
     "data": {
      "image/png": "[encoded data removed]",
      "text/plain": [
       "<Figure size 640x480 with 2 Axes>"
      ]
     },
     "metadata": {},
     "output_type": "display_data"
    }
   ],
   "source": [
    "index = 6\n",
    "\n",
    "fig, axs = plt.subplots(1,2)\n",
    "axs[0].imshow(features[index, 0].detach().cpu())\n",
    "axs[1].imshow(perturbed[index, 0].detach().cpu())\n",
    "fig.suptitle(f'Label: {labels[index]}')\n",
    "axs[0].set_title(f'Prediction: {predictions_on_originals[index]}')\n",
    "axs[1].set_title(f'Prediction: {predictions_on_perturbed[index]}')"
   ]
  }
 ],
 "metadata": {
  "kernelspec": {
   "display_name": "nightly",
   "language": "python",
   "name": "python3"
  },
  "language_info": {
   "codemirror_mode": {
    "name": "ipython",
    "version": 3
   },
   "file_extension": ".py",
   "mimetype": "text/x-python",
   "name": "python",
   "nbconvert_exporter": "python",
   "pygments_lexer": "ipython3",
   "version": "3.12.2"
  }
 },
 "nbformat": 4,
 "nbformat_minor": 2
}
