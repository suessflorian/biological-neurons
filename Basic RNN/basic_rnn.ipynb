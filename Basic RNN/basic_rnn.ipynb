{
 "cells": [
  {
   "cell_type": "markdown",
   "metadata": {},
   "source": [
    "# Basic RNN for predicting what country a name is from"
   ]
  },
  {
   "cell_type": "code",
   "execution_count": 1,
   "metadata": {},
   "outputs": [],
   "source": [
    "import torch\n",
    "import torch.nn as nn\n",
    "import matplotlib.pyplot as plt\n",
    "import numpy as np\n",
    "import torch.nn.functional as F\n",
    "\n",
    "def printf(string, terminal = False):\n",
    "    # function for printing stuff that gets removed from the output each iteration\n",
    "    import sys\n",
    "    if terminal:\n",
    "        sys.stdout.write(\"\\r\")\n",
    "        sys.stdout.write(string)\n",
    "        sys.stdout.flush()\n",
    "    else:\n",
    "        from IPython.display import display, clear_output\n",
    "        clear_output(wait = True)\n",
    "        print(string, end = '')\n",
    "        sys.stdout.flush()"
   ]
  },
  {
   "cell_type": "markdown",
   "metadata": {},
   "source": [
    "# Preprocessing\n",
    "\n",
    "Ripped from pytorch: https://pytorch.org/tutorials/intermediate/char_rnn_classification_tutorial.html"
   ]
  },
  {
   "cell_type": "code",
   "execution_count": 24,
   "metadata": {},
   "outputs": [
    {
     "name": "stdout",
     "output_type": "stream",
     "text": [
      "['names/Czech.txt', 'names/German.txt', 'names/Arabic.txt', 'names/Japanese.txt', 'names/Chinese.txt', 'names/Vietnamese.txt', 'names/Russian.txt', 'names/French.txt', 'names/Irish.txt', 'names/English.txt', 'names/Spanish.txt', 'names/Greek.txt', 'names/Italian.txt', 'names/Portuguese.txt', 'names/Scottish.txt', 'names/Dutch.txt', 'names/Korean.txt', 'names/Polish.txt']\n"
     ]
    }
   ],
   "source": [
    "from io import open\n",
    "import glob\n",
    "import os\n",
    "\n",
    "def findFiles(path): return glob.glob(path)\n",
    "\n",
    "print(findFiles('names/*.txt'))\n",
    "\n",
    "import unicodedata\n",
    "import string\n",
    "\n",
    "all_letters = string.ascii_letters + \" .,;'\"\n",
    "n_letters = len(all_letters)\n",
    "\n",
    "# Turn a Unicode string to plain ASCII, thanks to https://stackoverflow.com/a/518232/2809427\n",
    "def unicodeToAscii(s):\n",
    "    return ''.join(\n",
    "        c for c in unicodedata.normalize('NFD', s)\n",
    "        if unicodedata.category(c) != 'Mn'\n",
    "        and c in all_letters\n",
    "    )\n",
    "\n",
    "# Build the dictionary dictionary, a list of names per language\n",
    "dictionary = {}\n",
    "all_countries = []\n",
    "\n",
    "# Read a file and split into lines\n",
    "def readLines(filename):\n",
    "    lines = open(filename, encoding='utf-8').read().strip().split('\\n')\n",
    "    return [unicodeToAscii(line) for line in lines]\n",
    "\n",
    "for filename in findFiles('names/*.txt'):\n",
    "    category = os.path.splitext(os.path.basename(filename))[0]\n",
    "    all_countries.append(category)\n",
    "    lines = readLines(filename)\n",
    "    dictionary[category] = lines\n",
    "\n",
    "n_countries = len(all_countries)"
   ]
  },
  {
   "cell_type": "code",
   "execution_count": 28,
   "metadata": {},
   "outputs": [
    {
     "name": "stdout",
     "output_type": "stream",
     "text": [
      "unicodeToAscii('Ślusàrski')='Slusarski'\n",
      "dictionary['Czech'][:10]=['Abl', 'Adsit', 'Ajdrna', 'Alt', 'Antonowitsch', 'Antonowitz', 'Bacon', 'Ballalatak', 'Ballaltick', 'Bartonova']\n",
      "all_countries[:10]=['Czech', 'German', 'Arabic', 'Japanese', 'Chinese', 'Vietnamese', 'Russian', 'French', 'Irish', 'English']\n",
      "n_countries=18\n"
     ]
    }
   ],
   "source": [
    "print(f\"{unicodeToAscii('Ślusàrski')=}\")\n",
    "print(f\"{dictionary['Czech'][:10]=}\")\n",
    "print(f\"{all_countries[:10]=}\")\n",
    "print(f'{n_countries=}')"
   ]
  },
  {
   "cell_type": "code",
   "execution_count": 27,
   "metadata": {},
   "outputs": [
    {
     "name": "stdout",
     "output_type": "stream",
     "text": [
      "tensor([[0., 0., 0., 0., 0., 0., 0., 0., 0., 0., 0., 0., 0., 0., 0., 0., 0., 0.,\n",
      "         0., 0., 0., 0., 0., 0., 0., 0., 0., 0., 0., 0., 0., 0., 0., 0., 0., 1.,\n",
      "         0., 0., 0., 0., 0., 0., 0., 0., 0., 0., 0., 0., 0., 0., 0., 0., 0., 0.,\n",
      "         0., 0., 0.]])\n",
      "torch.Size([5, 1, 57])\n"
     ]
    }
   ],
   "source": [
    "# Find letter index from all_letters, e.g. \"a\" = 0\n",
    "def letter_to_index(letter):\n",
    "    return all_letters.find(letter)\n",
    "\n",
    "# Just for demonstration, turn a letter into a <1 x n_letters> Tensor\n",
    "def letter_to_tensor(letter):\n",
    "    tensor = torch.zeros(1, n_letters)\n",
    "    tensor[0][letter_to_index(letter)] = 1\n",
    "    return tensor\n",
    "\n",
    "# Turn a line into a <line_length x 1 x n_letters>,\n",
    "# or an array of one-hot letter vectors\n",
    "def line_to_tensor(line):\n",
    "    tensor = torch.zeros(len(line), 1, n_letters)\n",
    "    for li, letter in enumerate(line):\n",
    "        tensor[li][0][letter_to_index(letter)] = 1\n",
    "    return tensor\n",
    "\n",
    "print(letter_to_tensor('J'))\n",
    "\n",
    "print(line_to_tensor('Jones').size())"
   ]
  },
  {
   "cell_type": "markdown",
   "metadata": {},
   "source": [
    "# RNN"
   ]
  },
  {
   "cell_type": "code",
   "execution_count": 38,
   "metadata": {},
   "outputs": [],
   "source": [
    "class RNN(nn.Module):\n",
    "    def __init__(self, input_size, hidden_size, output_size):\n",
    "        super(RNN, self).__init__()\n",
    "        \n",
    "        self.hidden_size = hidden_size\n",
    "        self.i2h = nn.Linear(input_size + hidden_size, hidden_size)\n",
    "        self.i2o = nn.Linear(input_size + hidden_size, output_size)\n",
    "        self.softmax = nn.LogSoftmax(dim = 1)\n",
    "    \n",
    "    def forward(self, input_tensor, hidden_tensor):\n",
    "        combined = torch.cat((input_tensor, hidden_tensor), 1)\n",
    "        hidden = self.i2h(combined)\n",
    "        output = self.i2o(combined)\n",
    "        output = self.softmax(output)\n",
    "        return output, hidden\n",
    "    \n",
    "    def init_hidden(self):\n",
    "        return torch.zeros(1, self.hidden_size)\n",
    "\n",
    "    def init_hidden_n(self):\n",
    "        return torch.randn(1, self.hidden_size)\n",
    "    \n",
    "\n",
    "n_names_per_country = {country:len(names) for country, names in dictionary.items()}\n",
    "\n",
    "def random_training_sample():\n",
    "    i = np.random.randint(n_countries)\n",
    "    country = all_countries[i]\n",
    "    j = np.random.randint(n_names_per_country[country])\n",
    "    country_tensor = torch.tensor([i], dtype = torch.long)\n",
    "    name = dictionary[country][j]\n",
    "    name_tensor = line_to_tensor(name)\n",
    "    return country, name, country_tensor, name_tensor\n",
    "\n",
    "def category_from_output(output):\n",
    "    return all_countries[torch.argmax(output)]"
   ]
  },
  {
   "cell_type": "markdown",
   "metadata": {},
   "source": [
    "## Training"
   ]
  },
  {
   "cell_type": "code",
   "execution_count": 39,
   "metadata": {},
   "outputs": [],
   "source": [
    "rnn = RNN(n_letters, hidden_size=128, output_size=n_countries)\n",
    "criterion = nn.NLLLoss()\n",
    "learning_rate = 0.005\n",
    "optimizer = torch.optim.SGD(rnn.parameters(), lr=learning_rate)\n",
    "\n",
    "def train(line_tensor, category_tensor): # letters, class label\n",
    "    hidden = rnn.init_hidden()\n",
    "    for i in range(line_tensor.size()[0]):\n",
    "        output, hidden = rnn(line_tensor[i], hidden)\n",
    "    \n",
    "    loss = criterion(output, category_tensor)\n",
    "    \n",
    "    optimizer.zero_grad()\n",
    "    loss.backward()\n",
    "    optimizer.step()\n",
    "    \n",
    "    return output, loss.item()"
   ]
  },
  {
   "cell_type": "code",
   "execution_count": 40,
   "metadata": {},
   "outputs": [
    {
     "name": "stdout",
     "output_type": "stream",
     "text": [
      "Iteration:100000, Progress:100.0%, Loss:2.3556, Prediction:Scottish, Correct:German"
     ]
    },
    {
     "data": {
      "image/png": "[encoded data removed]",
      "text/plain": [
       "<Figure size 640x480 with 1 Axes>"
      ]
     },
     "metadata": {},
     "output_type": "display_data"
    }
   ],
   "source": [
    "current_loss = 0\n",
    "all_losses = []\n",
    "plot_steps, print_steps = 1000, 5000\n",
    "n_iters = 100000\n",
    "\n",
    "for i in range(n_iters):\n",
    "    category, line, category_tensor, line_tensor = random_training_sample()\n",
    "    output, loss = train(line_tensor, category_tensor)\n",
    "    current_loss += loss\n",
    "    \n",
    "    if (i + 1) % plot_steps == 0:\n",
    "        all_losses.append(current_loss / plot_steps)\n",
    "        current_loss = 0\n",
    "    \n",
    "    if (i + 1) % print_steps == 0:\n",
    "        guess = category_from_output(output)\n",
    "        printf(f\"Iteration:{i+1}, Progress:{(i+1)/n_iters * 100:.1f}%, Loss:{loss:.4f}, Prediction:{guess}, Correct:{category}\")\n",
    "        \n",
    "plt.figure()\n",
    "plt.plot(all_losses)\n",
    "plt.show()"
   ]
  },
  {
   "cell_type": "code",
   "execution_count": 58,
   "metadata": {},
   "outputs": [
    {
     "name": "stdout",
     "output_type": "stream",
     "text": [
      "Name: Novák,\tCountry: Czech,\tPrediction: Polish,\tCorrect: False\n",
      "Name: Müller,\tCountry: German,\tPrediction: Scottish,\tCorrect: False\n",
      "Name: Al-Masri,\tCountry: Arabic,\tPrediction: Italian,\tCorrect: False\n",
      "Name: Sato,\tCountry: Japanese,\tPrediction: Japanese,\tCorrect: True\n",
      "Name: Wang,\tCountry: Chinese,\tPrediction: Chinese,\tCorrect: True\n",
      "Name: Nguyen,\tCountry: Vietnamese,\tPrediction: Vietnamese,\tCorrect: True\n",
      "Name: Smirnov,\tCountry: Russian,\tPrediction: Russian,\tCorrect: True\n",
      "Name: Martin,\tCountry: French,\tPrediction: Scottish,\tCorrect: False\n",
      "Name: O'Sullivan,\tCountry: Irish,\tPrediction: Russian,\tCorrect: False\n",
      "Name: Smith,\tCountry: English,\tPrediction: Scottish,\tCorrect: False\n",
      "Name: García,\tCountry: Spanish,\tPrediction: Portuguese,\tCorrect: False\n",
      "Name: Papadopoulos,\tCountry: Greek,\tPrediction: Greek,\tCorrect: True\n",
      "Name: Rossi,\tCountry: Italian,\tPrediction: Italian,\tCorrect: True\n",
      "Name: Silva,\tCountry: Portuguese,\tPrediction: Czech,\tCorrect: False\n",
      "Name: MacLeod,\tCountry: Scottish,\tPrediction: French,\tCorrect: False\n",
      "Name: De Jong,\tCountry: Dutch,\tPrediction: Chinese,\tCorrect: False\n",
      "Name: Kim,\tCountry: Korean,\tPrediction: Korean,\tCorrect: True\n",
      "Name: Nowak,\tCountry: Polish,\tPrediction: Polish,\tCorrect: True\n",
      "Overall accuracy: 0.4444\n"
     ]
    }
   ],
   "source": [
    "def predict(new_name):\n",
    "    # Prediction from RNN\n",
    "    with torch.no_grad():\n",
    "        rnn.eval()\n",
    "        line_tensor = line_to_tensor(new_name)\n",
    "        hidden = rnn.init_hidden()\n",
    "        for i in range(line_tensor.size()[0]):\n",
    "            output, hidden = rnn(line_tensor[i], hidden)\n",
    "        guess = category_from_output(output)\n",
    "        return guess\n",
    "    \n",
    "names = [\"Novák\", \"Müller\", \"Al-Masri\", \"Sato\", \"Wang\", \"Nguyen\", \"Smirnov\", \"Martin\", \"O'Sullivan\", \"Smith\", \"García\", \"Papadopoulos\", \"Rossi\", \"Silva\", \"MacLeod\", \"De Jong\", \"Kim\", \"Nowak\"]\n",
    "countries = [\"Czech\", \"German\", \"Arabic\", \"Japanese\", \"Chinese\", \"Vietnamese\", \"Russian\", \"French\", \"Irish\", \"English\", \"Spanish\", \"Greek\", \"Italian\", \"Portuguese\", \"Scottish\", \"Dutch\", \"Korean\", \"Polish\"]\n",
    "\n",
    "sum_ = 0\n",
    "\n",
    "for name, country in zip(names, countries):\n",
    "    prediction = predict(unicodeToAscii(name))\n",
    "    print(f\"Name: {name},\\tCountry: {country},\\tPrediction: {prediction},\\tCorrect: {country == prediction}\")\n",
    "    sum_ += country == prediction\n",
    "\n",
    "# The accuracy might be bad because:\n",
    "# 1. The training is random\n",
    "# 2. Might need to train for longer\n",
    "# 3. The name/country pairs were generated by GPT-4\n",
    "print(f\"Overall accuracy: {sum_ / len(names):.4f}\")\n"
   ]
  }
 ],
 "metadata": {
  "kernelspec": {
   "display_name": "torch",
   "language": "python",
   "name": "python3"
  },
  "language_info": {
   "codemirror_mode": {
    "name": "ipython",
    "version": 3
   },
   "file_extension": ".py",
   "mimetype": "text/x-python",
   "name": "python",
   "nbconvert_exporter": "python",
   "pygments_lexer": "ipython3",
   "version": "3.11.6"
  }
 },
 "nbformat": 4,
 "nbformat_minor": 2
}
